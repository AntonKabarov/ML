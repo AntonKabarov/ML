{
 "cells": [
  {
   "cell_type": "markdown",
   "id": "72ba2be8",
   "metadata": {},
   "source": [
    "# Идентификация гриба"
   ]
  },
  {
   "cell_type": "code",
   "execution_count": 855,
   "id": "5ccc10a4",
   "metadata": {},
   "outputs": [],
   "source": [
    "import numpy as np              \n",
    "import pandas as pd             \n",
    "import matplotlib.pyplot as plt \n",
    "import seaborn as sns           \n",
    "import decimal\n",
    "from sklearn.model_selection import train_test_split\n",
    "from sklearn.neighbors import KNeighborsClassifier\n",
    "from sklearn.model_selection import GridSearchCV\n",
    "from sklearn.metrics import classification_report,confusion_matrix\n",
    "from sklearn.neural_network import MLPClassifier\n",
    "from imblearn.over_sampling import RandomOverSampler\n",
    "from sklearn import ensemble\n"
   ]
  },
  {
   "cell_type": "markdown",
   "id": "f14d9ba4",
   "metadata": {},
   "source": [
    "1) Загружаем файл из интернета:"
   ]
  },
  {
   "cell_type": "code",
   "execution_count": 560,
   "id": "fda62543",
   "metadata": {},
   "outputs": [],
   "source": [
    "data_raw = pd.read_csv('https://raw.githubusercontent.com/AntonKabarov/ML/main/mushrooms.csv',  sep=',')"
   ]
  },
  {
   "cell_type": "code",
   "execution_count": 561,
   "id": "33e46ce4",
   "metadata": {},
   "outputs": [
    {
     "data": {
      "text/html": [
       "<div>\n",
       "<style scoped>\n",
       "    .dataframe tbody tr th:only-of-type {\n",
       "        vertical-align: middle;\n",
       "    }\n",
       "\n",
       "    .dataframe tbody tr th {\n",
       "        vertical-align: top;\n",
       "    }\n",
       "\n",
       "    .dataframe thead th {\n",
       "        text-align: right;\n",
       "    }\n",
       "</style>\n",
       "<table border=\"1\" class=\"dataframe\">\n",
       "  <thead>\n",
       "    <tr style=\"text-align: right;\">\n",
       "      <th></th>\n",
       "      <th>class</th>\n",
       "      <th>cap-shape</th>\n",
       "      <th>cap-surface</th>\n",
       "      <th>cap-color</th>\n",
       "      <th>bruises</th>\n",
       "      <th>odor</th>\n",
       "      <th>gill-attachment</th>\n",
       "      <th>gill-spacing</th>\n",
       "      <th>gill-size</th>\n",
       "      <th>gill-color</th>\n",
       "      <th>...</th>\n",
       "      <th>stalk-surface-below-ring</th>\n",
       "      <th>stalk-color-above-ring</th>\n",
       "      <th>stalk-color-below-ring</th>\n",
       "      <th>veil-type</th>\n",
       "      <th>veil-color</th>\n",
       "      <th>ring-number</th>\n",
       "      <th>ring-type</th>\n",
       "      <th>spore-print-color</th>\n",
       "      <th>population</th>\n",
       "      <th>habitat</th>\n",
       "    </tr>\n",
       "  </thead>\n",
       "  <tbody>\n",
       "    <tr>\n",
       "      <th>0</th>\n",
       "      <td>p</td>\n",
       "      <td>x</td>\n",
       "      <td>s</td>\n",
       "      <td>n</td>\n",
       "      <td>t</td>\n",
       "      <td>p</td>\n",
       "      <td>f</td>\n",
       "      <td>c</td>\n",
       "      <td>n</td>\n",
       "      <td>k</td>\n",
       "      <td>...</td>\n",
       "      <td>s</td>\n",
       "      <td>w</td>\n",
       "      <td>w</td>\n",
       "      <td>p</td>\n",
       "      <td>w</td>\n",
       "      <td>o</td>\n",
       "      <td>p</td>\n",
       "      <td>k</td>\n",
       "      <td>s</td>\n",
       "      <td>u</td>\n",
       "    </tr>\n",
       "    <tr>\n",
       "      <th>1</th>\n",
       "      <td>e</td>\n",
       "      <td>x</td>\n",
       "      <td>s</td>\n",
       "      <td>y</td>\n",
       "      <td>t</td>\n",
       "      <td>a</td>\n",
       "      <td>f</td>\n",
       "      <td>c</td>\n",
       "      <td>b</td>\n",
       "      <td>k</td>\n",
       "      <td>...</td>\n",
       "      <td>s</td>\n",
       "      <td>w</td>\n",
       "      <td>w</td>\n",
       "      <td>p</td>\n",
       "      <td>w</td>\n",
       "      <td>o</td>\n",
       "      <td>p</td>\n",
       "      <td>n</td>\n",
       "      <td>n</td>\n",
       "      <td>g</td>\n",
       "    </tr>\n",
       "    <tr>\n",
       "      <th>2</th>\n",
       "      <td>e</td>\n",
       "      <td>b</td>\n",
       "      <td>s</td>\n",
       "      <td>w</td>\n",
       "      <td>t</td>\n",
       "      <td>l</td>\n",
       "      <td>f</td>\n",
       "      <td>c</td>\n",
       "      <td>b</td>\n",
       "      <td>n</td>\n",
       "      <td>...</td>\n",
       "      <td>s</td>\n",
       "      <td>w</td>\n",
       "      <td>w</td>\n",
       "      <td>p</td>\n",
       "      <td>w</td>\n",
       "      <td>o</td>\n",
       "      <td>p</td>\n",
       "      <td>n</td>\n",
       "      <td>n</td>\n",
       "      <td>m</td>\n",
       "    </tr>\n",
       "    <tr>\n",
       "      <th>3</th>\n",
       "      <td>p</td>\n",
       "      <td>x</td>\n",
       "      <td>y</td>\n",
       "      <td>w</td>\n",
       "      <td>t</td>\n",
       "      <td>p</td>\n",
       "      <td>f</td>\n",
       "      <td>c</td>\n",
       "      <td>n</td>\n",
       "      <td>n</td>\n",
       "      <td>...</td>\n",
       "      <td>s</td>\n",
       "      <td>w</td>\n",
       "      <td>w</td>\n",
       "      <td>p</td>\n",
       "      <td>w</td>\n",
       "      <td>o</td>\n",
       "      <td>p</td>\n",
       "      <td>k</td>\n",
       "      <td>s</td>\n",
       "      <td>u</td>\n",
       "    </tr>\n",
       "    <tr>\n",
       "      <th>4</th>\n",
       "      <td>e</td>\n",
       "      <td>x</td>\n",
       "      <td>s</td>\n",
       "      <td>g</td>\n",
       "      <td>f</td>\n",
       "      <td>n</td>\n",
       "      <td>f</td>\n",
       "      <td>w</td>\n",
       "      <td>b</td>\n",
       "      <td>k</td>\n",
       "      <td>...</td>\n",
       "      <td>s</td>\n",
       "      <td>w</td>\n",
       "      <td>w</td>\n",
       "      <td>p</td>\n",
       "      <td>w</td>\n",
       "      <td>o</td>\n",
       "      <td>e</td>\n",
       "      <td>n</td>\n",
       "      <td>a</td>\n",
       "      <td>g</td>\n",
       "    </tr>\n",
       "    <tr>\n",
       "      <th>...</th>\n",
       "      <td>...</td>\n",
       "      <td>...</td>\n",
       "      <td>...</td>\n",
       "      <td>...</td>\n",
       "      <td>...</td>\n",
       "      <td>...</td>\n",
       "      <td>...</td>\n",
       "      <td>...</td>\n",
       "      <td>...</td>\n",
       "      <td>...</td>\n",
       "      <td>...</td>\n",
       "      <td>...</td>\n",
       "      <td>...</td>\n",
       "      <td>...</td>\n",
       "      <td>...</td>\n",
       "      <td>...</td>\n",
       "      <td>...</td>\n",
       "      <td>...</td>\n",
       "      <td>...</td>\n",
       "      <td>...</td>\n",
       "      <td>...</td>\n",
       "    </tr>\n",
       "    <tr>\n",
       "      <th>8119</th>\n",
       "      <td>e</td>\n",
       "      <td>k</td>\n",
       "      <td>s</td>\n",
       "      <td>n</td>\n",
       "      <td>f</td>\n",
       "      <td>n</td>\n",
       "      <td>a</td>\n",
       "      <td>c</td>\n",
       "      <td>b</td>\n",
       "      <td>y</td>\n",
       "      <td>...</td>\n",
       "      <td>s</td>\n",
       "      <td>o</td>\n",
       "      <td>o</td>\n",
       "      <td>p</td>\n",
       "      <td>o</td>\n",
       "      <td>o</td>\n",
       "      <td>p</td>\n",
       "      <td>b</td>\n",
       "      <td>c</td>\n",
       "      <td>l</td>\n",
       "    </tr>\n",
       "    <tr>\n",
       "      <th>8120</th>\n",
       "      <td>e</td>\n",
       "      <td>x</td>\n",
       "      <td>s</td>\n",
       "      <td>n</td>\n",
       "      <td>f</td>\n",
       "      <td>n</td>\n",
       "      <td>a</td>\n",
       "      <td>c</td>\n",
       "      <td>b</td>\n",
       "      <td>y</td>\n",
       "      <td>...</td>\n",
       "      <td>s</td>\n",
       "      <td>o</td>\n",
       "      <td>o</td>\n",
       "      <td>p</td>\n",
       "      <td>n</td>\n",
       "      <td>o</td>\n",
       "      <td>p</td>\n",
       "      <td>b</td>\n",
       "      <td>v</td>\n",
       "      <td>l</td>\n",
       "    </tr>\n",
       "    <tr>\n",
       "      <th>8121</th>\n",
       "      <td>e</td>\n",
       "      <td>f</td>\n",
       "      <td>s</td>\n",
       "      <td>n</td>\n",
       "      <td>f</td>\n",
       "      <td>n</td>\n",
       "      <td>a</td>\n",
       "      <td>c</td>\n",
       "      <td>b</td>\n",
       "      <td>n</td>\n",
       "      <td>...</td>\n",
       "      <td>s</td>\n",
       "      <td>o</td>\n",
       "      <td>o</td>\n",
       "      <td>p</td>\n",
       "      <td>o</td>\n",
       "      <td>o</td>\n",
       "      <td>p</td>\n",
       "      <td>b</td>\n",
       "      <td>c</td>\n",
       "      <td>l</td>\n",
       "    </tr>\n",
       "    <tr>\n",
       "      <th>8122</th>\n",
       "      <td>p</td>\n",
       "      <td>k</td>\n",
       "      <td>y</td>\n",
       "      <td>n</td>\n",
       "      <td>f</td>\n",
       "      <td>y</td>\n",
       "      <td>f</td>\n",
       "      <td>c</td>\n",
       "      <td>n</td>\n",
       "      <td>b</td>\n",
       "      <td>...</td>\n",
       "      <td>k</td>\n",
       "      <td>w</td>\n",
       "      <td>w</td>\n",
       "      <td>p</td>\n",
       "      <td>w</td>\n",
       "      <td>o</td>\n",
       "      <td>e</td>\n",
       "      <td>w</td>\n",
       "      <td>v</td>\n",
       "      <td>l</td>\n",
       "    </tr>\n",
       "    <tr>\n",
       "      <th>8123</th>\n",
       "      <td>e</td>\n",
       "      <td>x</td>\n",
       "      <td>s</td>\n",
       "      <td>n</td>\n",
       "      <td>f</td>\n",
       "      <td>n</td>\n",
       "      <td>a</td>\n",
       "      <td>c</td>\n",
       "      <td>b</td>\n",
       "      <td>y</td>\n",
       "      <td>...</td>\n",
       "      <td>s</td>\n",
       "      <td>o</td>\n",
       "      <td>o</td>\n",
       "      <td>p</td>\n",
       "      <td>o</td>\n",
       "      <td>o</td>\n",
       "      <td>p</td>\n",
       "      <td>o</td>\n",
       "      <td>c</td>\n",
       "      <td>l</td>\n",
       "    </tr>\n",
       "  </tbody>\n",
       "</table>\n",
       "<p>8124 rows × 23 columns</p>\n",
       "</div>"
      ],
      "text/plain": [
       "     class cap-shape cap-surface cap-color bruises odor gill-attachment  \\\n",
       "0        p         x           s         n       t    p               f   \n",
       "1        e         x           s         y       t    a               f   \n",
       "2        e         b           s         w       t    l               f   \n",
       "3        p         x           y         w       t    p               f   \n",
       "4        e         x           s         g       f    n               f   \n",
       "...    ...       ...         ...       ...     ...  ...             ...   \n",
       "8119     e         k           s         n       f    n               a   \n",
       "8120     e         x           s         n       f    n               a   \n",
       "8121     e         f           s         n       f    n               a   \n",
       "8122     p         k           y         n       f    y               f   \n",
       "8123     e         x           s         n       f    n               a   \n",
       "\n",
       "     gill-spacing gill-size gill-color  ... stalk-surface-below-ring  \\\n",
       "0               c         n          k  ...                        s   \n",
       "1               c         b          k  ...                        s   \n",
       "2               c         b          n  ...                        s   \n",
       "3               c         n          n  ...                        s   \n",
       "4               w         b          k  ...                        s   \n",
       "...           ...       ...        ...  ...                      ...   \n",
       "8119            c         b          y  ...                        s   \n",
       "8120            c         b          y  ...                        s   \n",
       "8121            c         b          n  ...                        s   \n",
       "8122            c         n          b  ...                        k   \n",
       "8123            c         b          y  ...                        s   \n",
       "\n",
       "     stalk-color-above-ring stalk-color-below-ring veil-type veil-color  \\\n",
       "0                         w                      w         p          w   \n",
       "1                         w                      w         p          w   \n",
       "2                         w                      w         p          w   \n",
       "3                         w                      w         p          w   \n",
       "4                         w                      w         p          w   \n",
       "...                     ...                    ...       ...        ...   \n",
       "8119                      o                      o         p          o   \n",
       "8120                      o                      o         p          n   \n",
       "8121                      o                      o         p          o   \n",
       "8122                      w                      w         p          w   \n",
       "8123                      o                      o         p          o   \n",
       "\n",
       "     ring-number ring-type spore-print-color population habitat  \n",
       "0              o         p                 k          s       u  \n",
       "1              o         p                 n          n       g  \n",
       "2              o         p                 n          n       m  \n",
       "3              o         p                 k          s       u  \n",
       "4              o         e                 n          a       g  \n",
       "...          ...       ...               ...        ...     ...  \n",
       "8119           o         p                 b          c       l  \n",
       "8120           o         p                 b          v       l  \n",
       "8121           o         p                 b          c       l  \n",
       "8122           o         e                 w          v       l  \n",
       "8123           o         p                 o          c       l  \n",
       "\n",
       "[8124 rows x 23 columns]"
      ]
     },
     "execution_count": 561,
     "metadata": {},
     "output_type": "execute_result"
    }
   ],
   "source": [
    "data_raw"
   ]
  },
  {
   "cell_type": "markdown",
   "id": "c6780231",
   "metadata": {},
   "source": [
    "Посмотрим на размеры таблицы количество строк и количество столбцов. Сделаем вывод данных."
   ]
  },
  {
   "cell_type": "code",
   "execution_count": 562,
   "id": "eb7fb516",
   "metadata": {
    "scrolled": true
   },
   "outputs": [
    {
     "data": {
      "text/plain": [
       "(8124, 23)"
      ]
     },
     "execution_count": 562,
     "metadata": {},
     "output_type": "execute_result"
    }
   ],
   "source": [
    "data_raw.shape\n"
   ]
  },
  {
   "cell_type": "code",
   "execution_count": 563,
   "id": "bf71fa38",
   "metadata": {
    "scrolled": false
   },
   "outputs": [
    {
     "name": "stdout",
     "output_type": "stream",
     "text": [
      "     class cap-shape cap-surface cap-color bruises odor gill-attachment  \\\n",
      "0        p         x           s         n       t    p               f   \n",
      "1        e         x           s         y       t    a               f   \n",
      "2        e         b           s         w       t    l               f   \n",
      "3        p         x           y         w       t    p               f   \n",
      "4        e         x           s         g       f    n               f   \n",
      "...    ...       ...         ...       ...     ...  ...             ...   \n",
      "8119     e         k           s         n       f    n               a   \n",
      "8120     e         x           s         n       f    n               a   \n",
      "8121     e         f           s         n       f    n               a   \n",
      "8122     p         k           y         n       f    y               f   \n",
      "8123     e         x           s         n       f    n               a   \n",
      "\n",
      "     gill-spacing gill-size gill-color  ... stalk-surface-below-ring  \\\n",
      "0               c         n          k  ...                        s   \n",
      "1               c         b          k  ...                        s   \n",
      "2               c         b          n  ...                        s   \n",
      "3               c         n          n  ...                        s   \n",
      "4               w         b          k  ...                        s   \n",
      "...           ...       ...        ...  ...                      ...   \n",
      "8119            c         b          y  ...                        s   \n",
      "8120            c         b          y  ...                        s   \n",
      "8121            c         b          n  ...                        s   \n",
      "8122            c         n          b  ...                        k   \n",
      "8123            c         b          y  ...                        s   \n",
      "\n",
      "     stalk-color-above-ring stalk-color-below-ring veil-type veil-color  \\\n",
      "0                         w                      w         p          w   \n",
      "1                         w                      w         p          w   \n",
      "2                         w                      w         p          w   \n",
      "3                         w                      w         p          w   \n",
      "4                         w                      w         p          w   \n",
      "...                     ...                    ...       ...        ...   \n",
      "8119                      o                      o         p          o   \n",
      "8120                      o                      o         p          n   \n",
      "8121                      o                      o         p          o   \n",
      "8122                      w                      w         p          w   \n",
      "8123                      o                      o         p          o   \n",
      "\n",
      "     ring-number ring-type spore-print-color population habitat  \n",
      "0              o         p                 k          s       u  \n",
      "1              o         p                 n          n       g  \n",
      "2              o         p                 n          n       m  \n",
      "3              o         p                 k          s       u  \n",
      "4              o         e                 n          a       g  \n",
      "...          ...       ...               ...        ...     ...  \n",
      "8119           o         p                 b          c       l  \n",
      "8120           o         p                 b          v       l  \n",
      "8121           o         p                 b          c       l  \n",
      "8122           o         e                 w          v       l  \n",
      "8123           o         p                 o          c       l  \n",
      "\n",
      "[8124 rows x 23 columns]\n"
     ]
    }
   ],
   "source": [
    "print(data_raw)"
   ]
  },
  {
   "cell_type": "markdown",
   "id": "57c65adb",
   "metadata": {},
   "source": [
    "Вывод первых 15 строчек"
   ]
  },
  {
   "cell_type": "code",
   "execution_count": 564,
   "id": "c6f89f8a",
   "metadata": {
    "scrolled": true
   },
   "outputs": [
    {
     "name": "stdout",
     "output_type": "stream",
     "text": [
      "   class cap-shape cap-surface cap-color bruises odor gill-attachment  \\\n",
      "0      p         x           s         n       t    p               f   \n",
      "1      e         x           s         y       t    a               f   \n",
      "2      e         b           s         w       t    l               f   \n",
      "3      p         x           y         w       t    p               f   \n",
      "4      e         x           s         g       f    n               f   \n",
      "5      e         x           y         y       t    a               f   \n",
      "6      e         b           s         w       t    a               f   \n",
      "7      e         b           y         w       t    l               f   \n",
      "8      p         x           y         w       t    p               f   \n",
      "9      e         b           s         y       t    a               f   \n",
      "10     e         x           y         y       t    l               f   \n",
      "11     e         x           y         y       t    a               f   \n",
      "12     e         b           s         y       t    a               f   \n",
      "13     p         x           y         w       t    p               f   \n",
      "14     e         x           f         n       f    n               f   \n",
      "\n",
      "   gill-spacing gill-size gill-color  ... stalk-surface-below-ring  \\\n",
      "0             c         n          k  ...                        s   \n",
      "1             c         b          k  ...                        s   \n",
      "2             c         b          n  ...                        s   \n",
      "3             c         n          n  ...                        s   \n",
      "4             w         b          k  ...                        s   \n",
      "5             c         b          n  ...                        s   \n",
      "6             c         b          g  ...                        s   \n",
      "7             c         b          n  ...                        s   \n",
      "8             c         n          p  ...                        s   \n",
      "9             c         b          g  ...                        s   \n",
      "10            c         b          g  ...                        s   \n",
      "11            c         b          n  ...                        s   \n",
      "12            c         b          w  ...                        s   \n",
      "13            c         n          k  ...                        s   \n",
      "14            w         b          n  ...                        f   \n",
      "\n",
      "   stalk-color-above-ring stalk-color-below-ring veil-type veil-color  \\\n",
      "0                       w                      w         p          w   \n",
      "1                       w                      w         p          w   \n",
      "2                       w                      w         p          w   \n",
      "3                       w                      w         p          w   \n",
      "4                       w                      w         p          w   \n",
      "5                       w                      w         p          w   \n",
      "6                       w                      w         p          w   \n",
      "7                       w                      w         p          w   \n",
      "8                       w                      w         p          w   \n",
      "9                       w                      w         p          w   \n",
      "10                      w                      w         p          w   \n",
      "11                      w                      w         p          w   \n",
      "12                      w                      w         p          w   \n",
      "13                      w                      w         p          w   \n",
      "14                      w                      w         p          w   \n",
      "\n",
      "   ring-number ring-type spore-print-color population habitat  \n",
      "0            o         p                 k          s       u  \n",
      "1            o         p                 n          n       g  \n",
      "2            o         p                 n          n       m  \n",
      "3            o         p                 k          s       u  \n",
      "4            o         e                 n          a       g  \n",
      "5            o         p                 k          n       g  \n",
      "6            o         p                 k          n       m  \n",
      "7            o         p                 n          s       m  \n",
      "8            o         p                 k          v       g  \n",
      "9            o         p                 k          s       m  \n",
      "10           o         p                 n          n       g  \n",
      "11           o         p                 k          s       m  \n",
      "12           o         p                 n          s       g  \n",
      "13           o         p                 n          v       u  \n",
      "14           o         e                 k          a       g  \n",
      "\n",
      "[15 rows x 23 columns]\n"
     ]
    }
   ],
   "source": [
    "print(data_raw.head(15))"
   ]
  },
  {
   "cell_type": "markdown",
   "id": "5b4e940e",
   "metadata": {},
   "source": [
    "Вывод последних 15 строчек"
   ]
  },
  {
   "cell_type": "code",
   "execution_count": 565,
   "id": "385f7757",
   "metadata": {
    "scrolled": false
   },
   "outputs": [
    {
     "name": "stdout",
     "output_type": "stream",
     "text": [
      "     class cap-shape cap-surface cap-color bruises odor gill-attachment  \\\n",
      "8109     e         b           s         w       f    n               f   \n",
      "8110     e         x           s         n       f    n               a   \n",
      "8111     e         k           s         w       f    n               f   \n",
      "8112     e         k           s         n       f    n               a   \n",
      "8113     p         k           y         e       f    y               f   \n",
      "8114     p         f           y         c       f    m               a   \n",
      "8115     e         x           s         n       f    n               a   \n",
      "8116     p         k           y         n       f    s               f   \n",
      "8117     p         k           s         e       f    y               f   \n",
      "8118     p         k           y         n       f    f               f   \n",
      "8119     e         k           s         n       f    n               a   \n",
      "8120     e         x           s         n       f    n               a   \n",
      "8121     e         f           s         n       f    n               a   \n",
      "8122     p         k           y         n       f    y               f   \n",
      "8123     e         x           s         n       f    n               a   \n",
      "\n",
      "     gill-spacing gill-size gill-color  ... stalk-surface-below-ring  \\\n",
      "8109            w         b          w  ...                        s   \n",
      "8110            c         b          o  ...                        s   \n",
      "8111            w         b          p  ...                        s   \n",
      "8112            c         b          o  ...                        s   \n",
      "8113            c         n          b  ...                        k   \n",
      "8114            c         b          y  ...                        y   \n",
      "8115            c         b          y  ...                        s   \n",
      "8116            c         n          b  ...                        k   \n",
      "8117            c         n          b  ...                        s   \n",
      "8118            c         n          b  ...                        s   \n",
      "8119            c         b          y  ...                        s   \n",
      "8120            c         b          y  ...                        s   \n",
      "8121            c         b          n  ...                        s   \n",
      "8122            c         n          b  ...                        k   \n",
      "8123            c         b          y  ...                        s   \n",
      "\n",
      "     stalk-color-above-ring stalk-color-below-ring veil-type veil-color  \\\n",
      "8109                      w                      w         p          w   \n",
      "8110                      o                      o         p          o   \n",
      "8111                      w                      w         p          w   \n",
      "8112                      o                      o         p          n   \n",
      "8113                      p                      p         p          w   \n",
      "8114                      c                      c         p          w   \n",
      "8115                      o                      o         p          o   \n",
      "8116                      p                      w         p          w   \n",
      "8117                      p                      w         p          w   \n",
      "8118                      p                      w         p          w   \n",
      "8119                      o                      o         p          o   \n",
      "8120                      o                      o         p          n   \n",
      "8121                      o                      o         p          o   \n",
      "8122                      w                      w         p          w   \n",
      "8123                      o                      o         p          o   \n",
      "\n",
      "     ring-number ring-type spore-print-color population habitat  \n",
      "8109           t         p                 w          n       g  \n",
      "8110           o         p                 n          v       l  \n",
      "8111           t         p                 w          n       g  \n",
      "8112           o         p                 b          v       l  \n",
      "8113           o         e                 w          v       d  \n",
      "8114           n         n                 w          c       d  \n",
      "8115           o         p                 o          v       l  \n",
      "8116           o         e                 w          v       l  \n",
      "8117           o         e                 w          v       d  \n",
      "8118           o         e                 w          v       d  \n",
      "8119           o         p                 b          c       l  \n",
      "8120           o         p                 b          v       l  \n",
      "8121           o         p                 b          c       l  \n",
      "8122           o         e                 w          v       l  \n",
      "8123           o         p                 o          c       l  \n",
      "\n",
      "[15 rows x 23 columns]\n"
     ]
    }
   ],
   "source": [
    "print(data_raw.tail(15))\n"
   ]
  },
  {
   "cell_type": "markdown",
   "id": "7db01c37",
   "metadata": {},
   "source": [
    "Вывод признаков"
   ]
  },
  {
   "cell_type": "code",
   "execution_count": 566,
   "id": "21a90d10",
   "metadata": {},
   "outputs": [
    {
     "name": "stdout",
     "output_type": "stream",
     "text": [
      "Index(['class', 'cap-shape', 'cap-surface', 'cap-color', 'bruises', 'odor',\n",
      "       'gill-attachment', 'gill-spacing', 'gill-size', 'gill-color',\n",
      "       'stalk-shape', 'stalk-root', 'stalk-surface-above-ring',\n",
      "       'stalk-surface-below-ring', 'stalk-color-above-ring',\n",
      "       'stalk-color-below-ring', 'veil-type', 'veil-color', 'ring-number',\n",
      "       'ring-type', 'spore-print-color', 'population', 'habitat'],\n",
      "      dtype='object')\n"
     ]
    }
   ],
   "source": [
    "print(data_raw.columns)"
   ]
  },
  {
   "cell_type": "markdown",
   "id": "aa644f1a",
   "metadata": {},
   "source": [
    "Все признаки гриба в задаче классификации являются категориальными.Опишем что обозначает каждый признак.\n",
    "class - класс \n",
    "cap-shape - форма шляпки гриба \n",
    "cap-surface - поверхность шляпки \n",
    "cap-color - цвет шляпки \n",
    "bruises - повреждения \n",
    "odor - запах \n",
    "gill-attachment - жаберное крепление \n",
    "gill-spacing - расстояние между жабрами \n",
    "gill-size - размер жабр \n",
    "gill-color - цвет жабр \n",
    "stalk-shape - форма стебля \n",
    "stalk-root - корень стебля \n",
    "stalk-surface-above-ring - поверхность стебля над кольцом\n",
    "stalk-surface-below-ring - поверхность стебля под кольцом\n",
    "stalk-color-below-ring - цвет стебля под кольцом\n",
    "stalk-color-above-ring - цвет стебля над кольцом\n",
    "veil-type - тип покрова\n",
    "veil-color - цвет покрова\n",
    "ring-number - количество кольцов гриба\n",
    "ring-type - тип кольца гриба\n",
    "spore-print-color - цвет отпечатка споры\n",
    "population - популяция\n",
    "habitat - ареал\n",
    "\n",
    "\n",
    "\n",
    "\n",
    "\n",
    "\n",
    "\n"
   ]
  },
  {
   "cell_type": "markdown",
   "id": "ac150abc",
   "metadata": {},
   "source": [
    "Вывод общей информации о таблице данных и основные статистические характеристики."
   ]
  },
  {
   "cell_type": "code",
   "execution_count": 567,
   "id": "d08db7ce",
   "metadata": {
    "scrolled": true
   },
   "outputs": [
    {
     "name": "stdout",
     "output_type": "stream",
     "text": [
      "<class 'pandas.core.frame.DataFrame'>\n",
      "RangeIndex: 8124 entries, 0 to 8123\n",
      "Data columns (total 23 columns):\n",
      " #   Column                    Non-Null Count  Dtype \n",
      "---  ------                    --------------  ----- \n",
      " 0   class                     8124 non-null   object\n",
      " 1   cap-shape                 8124 non-null   object\n",
      " 2   cap-surface               8124 non-null   object\n",
      " 3   cap-color                 8124 non-null   object\n",
      " 4   bruises                   8124 non-null   object\n",
      " 5   odor                      8124 non-null   object\n",
      " 6   gill-attachment           8124 non-null   object\n",
      " 7   gill-spacing              8124 non-null   object\n",
      " 8   gill-size                 8124 non-null   object\n",
      " 9   gill-color                8124 non-null   object\n",
      " 10  stalk-shape               8124 non-null   object\n",
      " 11  stalk-root                8124 non-null   object\n",
      " 12  stalk-surface-above-ring  8124 non-null   object\n",
      " 13  stalk-surface-below-ring  8124 non-null   object\n",
      " 14  stalk-color-above-ring    8124 non-null   object\n",
      " 15  stalk-color-below-ring    8124 non-null   object\n",
      " 16  veil-type                 8124 non-null   object\n",
      " 17  veil-color                8124 non-null   object\n",
      " 18  ring-number               8124 non-null   object\n",
      " 19  ring-type                 8124 non-null   object\n",
      " 20  spore-print-color         8124 non-null   object\n",
      " 21  population                8124 non-null   object\n",
      " 22  habitat                   8124 non-null   object\n",
      "dtypes: object(23)\n",
      "memory usage: 1.4+ MB\n"
     ]
    }
   ],
   "source": [
    "data_raw.info()"
   ]
  },
  {
   "cell_type": "code",
   "execution_count": 568,
   "id": "cdcbd66c",
   "metadata": {
    "scrolled": true
   },
   "outputs": [
    {
     "data": {
      "text/html": [
       "<div>\n",
       "<style scoped>\n",
       "    .dataframe tbody tr th:only-of-type {\n",
       "        vertical-align: middle;\n",
       "    }\n",
       "\n",
       "    .dataframe tbody tr th {\n",
       "        vertical-align: top;\n",
       "    }\n",
       "\n",
       "    .dataframe thead th {\n",
       "        text-align: right;\n",
       "    }\n",
       "</style>\n",
       "<table border=\"1\" class=\"dataframe\">\n",
       "  <thead>\n",
       "    <tr style=\"text-align: right;\">\n",
       "      <th></th>\n",
       "      <th>class</th>\n",
       "      <th>cap-shape</th>\n",
       "      <th>cap-surface</th>\n",
       "      <th>cap-color</th>\n",
       "      <th>bruises</th>\n",
       "      <th>odor</th>\n",
       "      <th>gill-attachment</th>\n",
       "      <th>gill-spacing</th>\n",
       "      <th>gill-size</th>\n",
       "      <th>gill-color</th>\n",
       "      <th>...</th>\n",
       "      <th>stalk-surface-below-ring</th>\n",
       "      <th>stalk-color-above-ring</th>\n",
       "      <th>stalk-color-below-ring</th>\n",
       "      <th>veil-type</th>\n",
       "      <th>veil-color</th>\n",
       "      <th>ring-number</th>\n",
       "      <th>ring-type</th>\n",
       "      <th>spore-print-color</th>\n",
       "      <th>population</th>\n",
       "      <th>habitat</th>\n",
       "    </tr>\n",
       "  </thead>\n",
       "  <tbody>\n",
       "    <tr>\n",
       "      <th>count</th>\n",
       "      <td>8124</td>\n",
       "      <td>8124</td>\n",
       "      <td>8124</td>\n",
       "      <td>8124</td>\n",
       "      <td>8124</td>\n",
       "      <td>8124</td>\n",
       "      <td>8124</td>\n",
       "      <td>8124</td>\n",
       "      <td>8124</td>\n",
       "      <td>8124</td>\n",
       "      <td>...</td>\n",
       "      <td>8124</td>\n",
       "      <td>8124</td>\n",
       "      <td>8124</td>\n",
       "      <td>8124</td>\n",
       "      <td>8124</td>\n",
       "      <td>8124</td>\n",
       "      <td>8124</td>\n",
       "      <td>8124</td>\n",
       "      <td>8124</td>\n",
       "      <td>8124</td>\n",
       "    </tr>\n",
       "    <tr>\n",
       "      <th>unique</th>\n",
       "      <td>2</td>\n",
       "      <td>6</td>\n",
       "      <td>4</td>\n",
       "      <td>10</td>\n",
       "      <td>2</td>\n",
       "      <td>9</td>\n",
       "      <td>2</td>\n",
       "      <td>2</td>\n",
       "      <td>2</td>\n",
       "      <td>12</td>\n",
       "      <td>...</td>\n",
       "      <td>4</td>\n",
       "      <td>9</td>\n",
       "      <td>9</td>\n",
       "      <td>1</td>\n",
       "      <td>4</td>\n",
       "      <td>3</td>\n",
       "      <td>5</td>\n",
       "      <td>9</td>\n",
       "      <td>6</td>\n",
       "      <td>7</td>\n",
       "    </tr>\n",
       "    <tr>\n",
       "      <th>top</th>\n",
       "      <td>e</td>\n",
       "      <td>x</td>\n",
       "      <td>y</td>\n",
       "      <td>n</td>\n",
       "      <td>f</td>\n",
       "      <td>n</td>\n",
       "      <td>f</td>\n",
       "      <td>c</td>\n",
       "      <td>b</td>\n",
       "      <td>b</td>\n",
       "      <td>...</td>\n",
       "      <td>s</td>\n",
       "      <td>w</td>\n",
       "      <td>w</td>\n",
       "      <td>p</td>\n",
       "      <td>w</td>\n",
       "      <td>o</td>\n",
       "      <td>p</td>\n",
       "      <td>w</td>\n",
       "      <td>v</td>\n",
       "      <td>d</td>\n",
       "    </tr>\n",
       "    <tr>\n",
       "      <th>freq</th>\n",
       "      <td>4208</td>\n",
       "      <td>3656</td>\n",
       "      <td>3244</td>\n",
       "      <td>2284</td>\n",
       "      <td>4748</td>\n",
       "      <td>3528</td>\n",
       "      <td>7914</td>\n",
       "      <td>6812</td>\n",
       "      <td>5612</td>\n",
       "      <td>1728</td>\n",
       "      <td>...</td>\n",
       "      <td>4936</td>\n",
       "      <td>4464</td>\n",
       "      <td>4384</td>\n",
       "      <td>8124</td>\n",
       "      <td>7924</td>\n",
       "      <td>7488</td>\n",
       "      <td>3968</td>\n",
       "      <td>2388</td>\n",
       "      <td>4040</td>\n",
       "      <td>3148</td>\n",
       "    </tr>\n",
       "  </tbody>\n",
       "</table>\n",
       "<p>4 rows × 23 columns</p>\n",
       "</div>"
      ],
      "text/plain": [
       "       class cap-shape cap-surface cap-color bruises  odor gill-attachment  \\\n",
       "count   8124      8124        8124      8124    8124  8124            8124   \n",
       "unique     2         6           4        10       2     9               2   \n",
       "top        e         x           y         n       f     n               f   \n",
       "freq    4208      3656        3244      2284    4748  3528            7914   \n",
       "\n",
       "       gill-spacing gill-size gill-color  ... stalk-surface-below-ring  \\\n",
       "count          8124      8124       8124  ...                     8124   \n",
       "unique            2         2         12  ...                        4   \n",
       "top               c         b          b  ...                        s   \n",
       "freq           6812      5612       1728  ...                     4936   \n",
       "\n",
       "       stalk-color-above-ring stalk-color-below-ring veil-type veil-color  \\\n",
       "count                    8124                   8124      8124       8124   \n",
       "unique                      9                      9         1          4   \n",
       "top                         w                      w         p          w   \n",
       "freq                     4464                   4384      8124       7924   \n",
       "\n",
       "       ring-number ring-type spore-print-color population habitat  \n",
       "count         8124      8124              8124       8124    8124  \n",
       "unique           3         5                 9          6       7  \n",
       "top              o         p                 w          v       d  \n",
       "freq          7488      3968              2388       4040    3148  \n",
       "\n",
       "[4 rows x 23 columns]"
      ]
     },
     "execution_count": 568,
     "metadata": {},
     "output_type": "execute_result"
    }
   ],
   "source": [
    "data_raw.describe()"
   ]
  },
  {
   "cell_type": "markdown",
   "id": "978d55f6",
   "metadata": {},
   "source": [
    "Обработаем пропущенные значения.Для начала проверим их. Выведем значение каждого столбца."
   ]
  },
  {
   "cell_type": "code",
   "execution_count": 569,
   "id": "0a1efd5b",
   "metadata": {
    "scrolled": false
   },
   "outputs": [
    {
     "name": "stdout",
     "output_type": "stream",
     "text": [
      "class ['p' 'e']\n",
      "cap-shape ['x' 'b' 's' 'f' 'k' 'c']\n",
      "cap-surface ['s' 'y' 'f' 'g']\n",
      "cap-color ['n' 'y' 'w' 'g' 'e' 'p' 'b' 'u' 'c' 'r']\n",
      "bruises ['t' 'f']\n",
      "odor ['p' 'a' 'l' 'n' 'f' 'c' 'y' 's' 'm']\n",
      "gill-attachment ['f' 'a']\n",
      "gill-spacing ['c' 'w']\n",
      "gill-size ['n' 'b']\n",
      "gill-color ['k' 'n' 'g' 'p' 'w' 'h' 'u' 'e' 'b' 'r' 'y' 'o']\n",
      "stalk-shape ['e' 't']\n",
      "stalk-root ['e' 'c' 'b' 'r' '?']\n",
      "stalk-surface-above-ring ['s' 'f' 'k' 'y']\n",
      "stalk-surface-below-ring ['s' 'f' 'y' 'k']\n",
      "stalk-color-above-ring ['w' 'g' 'p' 'n' 'b' 'e' 'o' 'c' 'y']\n",
      "stalk-color-below-ring ['w' 'p' 'g' 'b' 'n' 'e' 'y' 'o' 'c']\n",
      "veil-type ['p']\n",
      "veil-color ['w' 'n' 'o' 'y']\n",
      "ring-number ['o' 't' 'n']\n",
      "ring-type ['p' 'e' 'l' 'f' 'n']\n",
      "spore-print-color ['k' 'n' 'u' 'h' 'w' 'r' 'o' 'y' 'b']\n",
      "population ['s' 'n' 'a' 'v' 'y' 'c']\n",
      "habitat ['u' 'g' 'm' 'd' 'p' 'w' 'l']\n"
     ]
    }
   ],
   "source": [
    "for (Name, Data) in data_raw.iteritems():\n",
    "    print(Name,Data.unique())\n"
   ]
  },
  {
   "cell_type": "markdown",
   "id": "541be30f",
   "metadata": {},
   "source": [
    "как показано из данных, пропущенные значения отсутствуют "
   ]
  },
  {
   "cell_type": "markdown",
   "id": "560a7faa",
   "metadata": {},
   "source": [
    "Исключим признаки, которые не идентифицируют гриб как съедобный. Повреждение, популяция и ареал не являются проверкой съедобности гриба. Эти признаки являются нерелевантными признаками. "
   ]
  },
  {
   "cell_type": "code",
   "execution_count": 570,
   "id": "66330bf8",
   "metadata": {
    "scrolled": false
   },
   "outputs": [],
   "source": [
    "data=data_raw.drop(['bruises','population','habitat'],axis=1)\n",
    "categorical_columns = data.columns"
   ]
  },
  {
   "cell_type": "markdown",
   "id": "09cb02d6",
   "metadata": {},
   "source": [
    "Убедимся что нерелевантные признаки были удалены"
   ]
  },
  {
   "cell_type": "code",
   "execution_count": 571,
   "id": "49b43ca2",
   "metadata": {
    "scrolled": true
   },
   "outputs": [
    {
     "data": {
      "text/plain": [
       "(8124, 20)"
      ]
     },
     "execution_count": 571,
     "metadata": {},
     "output_type": "execute_result"
    }
   ],
   "source": [
    "data.shape\n"
   ]
  },
  {
   "cell_type": "code",
   "execution_count": 572,
   "id": "649b7c42",
   "metadata": {
    "scrolled": true
   },
   "outputs": [
    {
     "name": "stdout",
     "output_type": "stream",
     "text": [
      "     class cap-shape cap-surface cap-color odor gill-attachment gill-spacing  \\\n",
      "0        p         x           s         n    p               f            c   \n",
      "1        e         x           s         y    a               f            c   \n",
      "2        e         b           s         w    l               f            c   \n",
      "3        p         x           y         w    p               f            c   \n",
      "4        e         x           s         g    n               f            w   \n",
      "...    ...       ...         ...       ...  ...             ...          ...   \n",
      "8119     e         k           s         n    n               a            c   \n",
      "8120     e         x           s         n    n               a            c   \n",
      "8121     e         f           s         n    n               a            c   \n",
      "8122     p         k           y         n    y               f            c   \n",
      "8123     e         x           s         n    n               a            c   \n",
      "\n",
      "     gill-size gill-color stalk-shape stalk-root stalk-surface-above-ring  \\\n",
      "0            n          k           e          e                        s   \n",
      "1            b          k           e          c                        s   \n",
      "2            b          n           e          c                        s   \n",
      "3            n          n           e          e                        s   \n",
      "4            b          k           t          e                        s   \n",
      "...        ...        ...         ...        ...                      ...   \n",
      "8119         b          y           e          ?                        s   \n",
      "8120         b          y           e          ?                        s   \n",
      "8121         b          n           e          ?                        s   \n",
      "8122         n          b           t          ?                        s   \n",
      "8123         b          y           e          ?                        s   \n",
      "\n",
      "     stalk-surface-below-ring stalk-color-above-ring stalk-color-below-ring  \\\n",
      "0                           s                      w                      w   \n",
      "1                           s                      w                      w   \n",
      "2                           s                      w                      w   \n",
      "3                           s                      w                      w   \n",
      "4                           s                      w                      w   \n",
      "...                       ...                    ...                    ...   \n",
      "8119                        s                      o                      o   \n",
      "8120                        s                      o                      o   \n",
      "8121                        s                      o                      o   \n",
      "8122                        k                      w                      w   \n",
      "8123                        s                      o                      o   \n",
      "\n",
      "     veil-type veil-color ring-number ring-type spore-print-color  \n",
      "0            p          w           o         p                 k  \n",
      "1            p          w           o         p                 n  \n",
      "2            p          w           o         p                 n  \n",
      "3            p          w           o         p                 k  \n",
      "4            p          w           o         e                 n  \n",
      "...        ...        ...         ...       ...               ...  \n",
      "8119         p          o           o         p                 b  \n",
      "8120         p          n           o         p                 b  \n",
      "8121         p          o           o         p                 b  \n",
      "8122         p          w           o         e                 w  \n",
      "8123         p          o           o         p                 o  \n",
      "\n",
      "[8124 rows x 20 columns]\n"
     ]
    }
   ],
   "source": [
    "print(data)"
   ]
  },
  {
   "cell_type": "code",
   "execution_count": 573,
   "id": "a63e6c1e",
   "metadata": {},
   "outputs": [
    {
     "data": {
      "text/html": [
       "<div>\n",
       "<style scoped>\n",
       "    .dataframe tbody tr th:only-of-type {\n",
       "        vertical-align: middle;\n",
       "    }\n",
       "\n",
       "    .dataframe tbody tr th {\n",
       "        vertical-align: top;\n",
       "    }\n",
       "\n",
       "    .dataframe thead th {\n",
       "        text-align: right;\n",
       "    }\n",
       "</style>\n",
       "<table border=\"1\" class=\"dataframe\">\n",
       "  <thead>\n",
       "    <tr style=\"text-align: right;\">\n",
       "      <th></th>\n",
       "      <th>class</th>\n",
       "      <th>cap-shape</th>\n",
       "      <th>cap-surface</th>\n",
       "      <th>cap-color</th>\n",
       "      <th>odor</th>\n",
       "      <th>gill-attachment</th>\n",
       "      <th>gill-spacing</th>\n",
       "      <th>gill-size</th>\n",
       "      <th>gill-color</th>\n",
       "      <th>stalk-shape</th>\n",
       "      <th>stalk-root</th>\n",
       "      <th>stalk-surface-above-ring</th>\n",
       "      <th>stalk-surface-below-ring</th>\n",
       "      <th>stalk-color-above-ring</th>\n",
       "      <th>stalk-color-below-ring</th>\n",
       "      <th>veil-type</th>\n",
       "      <th>veil-color</th>\n",
       "      <th>ring-number</th>\n",
       "      <th>ring-type</th>\n",
       "      <th>spore-print-color</th>\n",
       "    </tr>\n",
       "  </thead>\n",
       "  <tbody>\n",
       "    <tr>\n",
       "      <th>count</th>\n",
       "      <td>8124</td>\n",
       "      <td>8124</td>\n",
       "      <td>8124</td>\n",
       "      <td>8124</td>\n",
       "      <td>8124</td>\n",
       "      <td>8124</td>\n",
       "      <td>8124</td>\n",
       "      <td>8124</td>\n",
       "      <td>8124</td>\n",
       "      <td>8124</td>\n",
       "      <td>8124</td>\n",
       "      <td>8124</td>\n",
       "      <td>8124</td>\n",
       "      <td>8124</td>\n",
       "      <td>8124</td>\n",
       "      <td>8124</td>\n",
       "      <td>8124</td>\n",
       "      <td>8124</td>\n",
       "      <td>8124</td>\n",
       "      <td>8124</td>\n",
       "    </tr>\n",
       "    <tr>\n",
       "      <th>unique</th>\n",
       "      <td>2</td>\n",
       "      <td>6</td>\n",
       "      <td>4</td>\n",
       "      <td>10</td>\n",
       "      <td>9</td>\n",
       "      <td>2</td>\n",
       "      <td>2</td>\n",
       "      <td>2</td>\n",
       "      <td>12</td>\n",
       "      <td>2</td>\n",
       "      <td>5</td>\n",
       "      <td>4</td>\n",
       "      <td>4</td>\n",
       "      <td>9</td>\n",
       "      <td>9</td>\n",
       "      <td>1</td>\n",
       "      <td>4</td>\n",
       "      <td>3</td>\n",
       "      <td>5</td>\n",
       "      <td>9</td>\n",
       "    </tr>\n",
       "    <tr>\n",
       "      <th>top</th>\n",
       "      <td>e</td>\n",
       "      <td>x</td>\n",
       "      <td>y</td>\n",
       "      <td>n</td>\n",
       "      <td>n</td>\n",
       "      <td>f</td>\n",
       "      <td>c</td>\n",
       "      <td>b</td>\n",
       "      <td>b</td>\n",
       "      <td>t</td>\n",
       "      <td>b</td>\n",
       "      <td>s</td>\n",
       "      <td>s</td>\n",
       "      <td>w</td>\n",
       "      <td>w</td>\n",
       "      <td>p</td>\n",
       "      <td>w</td>\n",
       "      <td>o</td>\n",
       "      <td>p</td>\n",
       "      <td>w</td>\n",
       "    </tr>\n",
       "    <tr>\n",
       "      <th>freq</th>\n",
       "      <td>4208</td>\n",
       "      <td>3656</td>\n",
       "      <td>3244</td>\n",
       "      <td>2284</td>\n",
       "      <td>3528</td>\n",
       "      <td>7914</td>\n",
       "      <td>6812</td>\n",
       "      <td>5612</td>\n",
       "      <td>1728</td>\n",
       "      <td>4608</td>\n",
       "      <td>3776</td>\n",
       "      <td>5176</td>\n",
       "      <td>4936</td>\n",
       "      <td>4464</td>\n",
       "      <td>4384</td>\n",
       "      <td>8124</td>\n",
       "      <td>7924</td>\n",
       "      <td>7488</td>\n",
       "      <td>3968</td>\n",
       "      <td>2388</td>\n",
       "    </tr>\n",
       "  </tbody>\n",
       "</table>\n",
       "</div>"
      ],
      "text/plain": [
       "       class cap-shape cap-surface cap-color  odor gill-attachment  \\\n",
       "count   8124      8124        8124      8124  8124            8124   \n",
       "unique     2         6           4        10     9               2   \n",
       "top        e         x           y         n     n               f   \n",
       "freq    4208      3656        3244      2284  3528            7914   \n",
       "\n",
       "       gill-spacing gill-size gill-color stalk-shape stalk-root  \\\n",
       "count          8124      8124       8124        8124       8124   \n",
       "unique            2         2         12           2          5   \n",
       "top               c         b          b           t          b   \n",
       "freq           6812      5612       1728        4608       3776   \n",
       "\n",
       "       stalk-surface-above-ring stalk-surface-below-ring  \\\n",
       "count                      8124                     8124   \n",
       "unique                        4                        4   \n",
       "top                           s                        s   \n",
       "freq                       5176                     4936   \n",
       "\n",
       "       stalk-color-above-ring stalk-color-below-ring veil-type veil-color  \\\n",
       "count                    8124                   8124      8124       8124   \n",
       "unique                      9                      9         1          4   \n",
       "top                         w                      w         p          w   \n",
       "freq                     4464                   4384      8124       7924   \n",
       "\n",
       "       ring-number ring-type spore-print-color  \n",
       "count         8124      8124              8124  \n",
       "unique           3         5                 9  \n",
       "top              o         p                 w  \n",
       "freq          7488      3968              2388  "
      ]
     },
     "execution_count": 573,
     "metadata": {},
     "output_type": "execute_result"
    }
   ],
   "source": [
    "data.describe()"
   ]
  },
  {
   "cell_type": "markdown",
   "id": "6187a163",
   "metadata": {},
   "source": [
    "Обучающая и тестовая выборка. Найдем бинарные признаки. Бинаризация номинальных признаков."
   ]
  },
  {
   "cell_type": "code",
   "execution_count": 574,
   "id": "f58db0ab",
   "metadata": {},
   "outputs": [],
   "source": [
    "data_describe = data.describe(include = [object])\n"
   ]
  },
  {
   "cell_type": "code",
   "execution_count": 575,
   "id": "35a50811",
   "metadata": {},
   "outputs": [
    {
     "name": "stdout",
     "output_type": "stream",
     "text": [
      "['class', 'gill-attachment', 'gill-spacing', 'gill-size', 'stalk-shape'] ['cap-shape', 'cap-surface', 'cap-color', 'odor', 'gill-color', 'stalk-root', 'stalk-surface-above-ring', 'stalk-surface-below-ring', 'stalk-color-above-ring', 'stalk-color-below-ring', 'veil-color', 'ring-number', 'ring-type', 'spore-print-color']\n"
     ]
    }
   ],
   "source": [
    "binary_columns = [c for c in categorical_columns if data_describe[c]['unique'] == 2]\n",
    "nonbinary_columns = [c for c in categorical_columns if data_describe[c]['unique'] > 2]\n",
    "print(binary_columns, nonbinary_columns)"
   ]
  },
  {
   "cell_type": "markdown",
   "id": "9fd1430b",
   "metadata": {},
   "source": [
    "К бинарным признакам относится: class, gill-attachment,gill-spacing,gill-size,stalk-shape.\n",
    "Посмотрим какие значения принимает каждый бинарный признак."
   ]
  },
  {
   "cell_type": "code",
   "execution_count": 576,
   "id": "9b4c7b15",
   "metadata": {
    "scrolled": true
   },
   "outputs": [
    {
     "name": "stdout",
     "output_type": "stream",
     "text": [
      "gill-attachment ['f' 'a']\n",
      "gill-spacing ['c' 'w']\n",
      "gill-size ['n' 'b']\n",
      "stalk-shape ['e' 't']\n"
     ]
    }
   ],
   "source": [
    "for c in binary_columns:\n",
    "   if(c != 'class'): \n",
    "    print(c, data[c].unique())"
   ]
  },
  {
   "cell_type": "markdown",
   "id": "d75a1474",
   "metadata": {},
   "source": [
    "В нашей задачи по признаку class будем предсказывать съедобность или несъедобность гриба. Поэтому его откидываем из рассмотрения бинарных признаков."
   ]
  },
  {
   "cell_type": "code",
   "execution_count": 577,
   "id": "2f982749",
   "metadata": {
    "scrolled": false
   },
   "outputs": [
    {
     "data": {
      "text/plain": [
       "array(['f', 'a'], dtype=object)"
      ]
     },
     "execution_count": 577,
     "metadata": {},
     "output_type": "execute_result"
    }
   ],
   "source": [
    "data['gill-attachment'].unique()\n"
   ]
  },
  {
   "cell_type": "code",
   "execution_count": 578,
   "id": "fe41ca16",
   "metadata": {
    "scrolled": true
   },
   "outputs": [],
   "source": [
    "data.loc[data['gill-attachment'] == 'f', 'gill-attachment'] = 0\n",
    "data.loc[data['gill-attachment'] == 'a', 'gill-attachment'] = 1\n"
   ]
  },
  {
   "cell_type": "code",
   "execution_count": 579,
   "id": "4b2edad3",
   "metadata": {},
   "outputs": [
    {
     "data": {
      "text/plain": [
       "count     8124\n",
       "unique       2\n",
       "top          0\n",
       "freq      7914\n",
       "Name: gill-attachment, dtype: int64"
      ]
     },
     "execution_count": 579,
     "metadata": {},
     "output_type": "execute_result"
    }
   ],
   "source": [
    "data['gill-attachment'].describe()"
   ]
  },
  {
   "cell_type": "code",
   "execution_count": 580,
   "id": "6937c7a2",
   "metadata": {},
   "outputs": [
    {
     "data": {
      "text/plain": [
       "array(['c', 'w'], dtype=object)"
      ]
     },
     "execution_count": 580,
     "metadata": {},
     "output_type": "execute_result"
    }
   ],
   "source": [
    "data['gill-spacing'].unique()"
   ]
  },
  {
   "cell_type": "code",
   "execution_count": 581,
   "id": "fd11ac60",
   "metadata": {},
   "outputs": [],
   "source": [
    "data.loc[data['gill-spacing'] == 'c', 'gill-spacing'] = 0\n",
    "data.loc[data['gill-spacing'] == 'w', 'gill-spacing'] = 1\n"
   ]
  },
  {
   "cell_type": "code",
   "execution_count": 582,
   "id": "554d4525",
   "metadata": {},
   "outputs": [
    {
     "data": {
      "text/plain": [
       "count     8124\n",
       "unique       2\n",
       "top          0\n",
       "freq      6812\n",
       "Name: gill-spacing, dtype: int64"
      ]
     },
     "execution_count": 582,
     "metadata": {},
     "output_type": "execute_result"
    }
   ],
   "source": [
    "data['gill-spacing'].describe()"
   ]
  },
  {
   "cell_type": "code",
   "execution_count": 583,
   "id": "0296c318",
   "metadata": {},
   "outputs": [
    {
     "data": {
      "text/plain": [
       "count     8124\n",
       "unique       2\n",
       "top          b\n",
       "freq      5612\n",
       "Name: gill-size, dtype: object"
      ]
     },
     "execution_count": 583,
     "metadata": {},
     "output_type": "execute_result"
    }
   ],
   "source": [
    "data['gill-size'].describe()"
   ]
  },
  {
   "cell_type": "code",
   "execution_count": 584,
   "id": "7778945c",
   "metadata": {},
   "outputs": [],
   "source": [
    "data.loc[data['gill-size'] == 'n', 'gill-size'] = 0\n",
    "data.loc[data['gill-size'] == 'b', 'gill-size'] = 1"
   ]
  },
  {
   "cell_type": "code",
   "execution_count": 585,
   "id": "9568aecc",
   "metadata": {},
   "outputs": [
    {
     "data": {
      "text/plain": [
       "count     8124\n",
       "unique       2\n",
       "top          1\n",
       "freq      5612\n",
       "Name: gill-size, dtype: int64"
      ]
     },
     "execution_count": 585,
     "metadata": {},
     "output_type": "execute_result"
    }
   ],
   "source": [
    "data['gill-size'].describe()"
   ]
  },
  {
   "cell_type": "code",
   "execution_count": 586,
   "id": "bb24f6fe",
   "metadata": {},
   "outputs": [],
   "source": [
    "data.loc[data['stalk-shape'] == 'e', 'stalk-shape'] = 0\n",
    "data.loc[data['stalk-shape'] == 't', 'stalk-shape'] = 1"
   ]
  },
  {
   "cell_type": "code",
   "execution_count": 587,
   "id": "0c3e6b07",
   "metadata": {},
   "outputs": [
    {
     "data": {
      "text/plain": [
       "count     8124\n",
       "unique       2\n",
       "top          1\n",
       "freq      4608\n",
       "Name: stalk-shape, dtype: int64"
      ]
     },
     "execution_count": 587,
     "metadata": {},
     "output_type": "execute_result"
    }
   ],
   "source": [
    "data['stalk-shape'].describe()"
   ]
  },
  {
   "cell_type": "markdown",
   "id": "2c6b0433",
   "metadata": {},
   "source": [
    "Убедимся что все бинарные признаки отработаны ('gill-attachment','gill-spacing','gill-size','stalk-shape')."
   ]
  },
  {
   "cell_type": "code",
   "execution_count": 588,
   "id": "3671d528",
   "metadata": {
    "scrolled": true
   },
   "outputs": [
    {
     "name": "stdout",
     "output_type": "stream",
     "text": [
      "class ['p' 'e']\n",
      "cap-shape ['x' 'b' 's' 'f' 'k' 'c']\n",
      "cap-surface ['s' 'y' 'f' 'g']\n",
      "cap-color ['n' 'y' 'w' 'g' 'e' 'p' 'b' 'u' 'c' 'r']\n",
      "odor ['p' 'a' 'l' 'n' 'f' 'c' 'y' 's' 'm']\n",
      "gill-attachment [0 1]\n",
      "gill-spacing [0 1]\n",
      "gill-size [0 1]\n",
      "gill-color ['k' 'n' 'g' 'p' 'w' 'h' 'u' 'e' 'b' 'r' 'y' 'o']\n",
      "stalk-shape [0 1]\n",
      "stalk-root ['e' 'c' 'b' 'r' '?']\n",
      "stalk-surface-above-ring ['s' 'f' 'k' 'y']\n",
      "stalk-surface-below-ring ['s' 'f' 'y' 'k']\n",
      "stalk-color-above-ring ['w' 'g' 'p' 'n' 'b' 'e' 'o' 'c' 'y']\n",
      "stalk-color-below-ring ['w' 'p' 'g' 'b' 'n' 'e' 'y' 'o' 'c']\n",
      "veil-type ['p']\n",
      "veil-color ['w' 'n' 'o' 'y']\n",
      "ring-number ['o' 't' 'n']\n",
      "ring-type ['p' 'e' 'l' 'f' 'n']\n",
      "spore-print-color ['k' 'n' 'u' 'h' 'w' 'r' 'o' 'y' 'b']\n"
     ]
    }
   ],
   "source": [
    "for (Name, Data) in data.iteritems():\n",
    "    print(Name,Data.unique())"
   ]
  },
  {
   "cell_type": "code",
   "execution_count": 589,
   "id": "0d4267cd",
   "metadata": {
    "scrolled": false
   },
   "outputs": [
    {
     "name": "stdout",
     "output_type": "stream",
     "text": [
      "Index(['cap-shape_b', 'cap-shape_c', 'cap-shape_f', 'cap-shape_k',\n",
      "       'cap-shape_s', 'cap-shape_x', 'cap-surface_f', 'cap-surface_g',\n",
      "       'cap-surface_s', 'cap-surface_y', 'cap-color_b', 'cap-color_c',\n",
      "       'cap-color_e', 'cap-color_g', 'cap-color_n', 'cap-color_p',\n",
      "       'cap-color_r', 'cap-color_u', 'cap-color_w', 'cap-color_y', 'odor_a',\n",
      "       'odor_c', 'odor_f', 'odor_l', 'odor_m', 'odor_n', 'odor_p', 'odor_s',\n",
      "       'odor_y', 'gill-color_b', 'gill-color_e', 'gill-color_g',\n",
      "       'gill-color_h', 'gill-color_k', 'gill-color_n', 'gill-color_o',\n",
      "       'gill-color_p', 'gill-color_r', 'gill-color_u', 'gill-color_w',\n",
      "       'gill-color_y', 'stalk-root_?', 'stalk-root_b', 'stalk-root_c',\n",
      "       'stalk-root_e', 'stalk-root_r', 'stalk-surface-above-ring_f',\n",
      "       'stalk-surface-above-ring_k', 'stalk-surface-above-ring_s',\n",
      "       'stalk-surface-above-ring_y', 'stalk-surface-below-ring_f',\n",
      "       'stalk-surface-below-ring_k', 'stalk-surface-below-ring_s',\n",
      "       'stalk-surface-below-ring_y', 'stalk-color-above-ring_b',\n",
      "       'stalk-color-above-ring_c', 'stalk-color-above-ring_e',\n",
      "       'stalk-color-above-ring_g', 'stalk-color-above-ring_n',\n",
      "       'stalk-color-above-ring_o', 'stalk-color-above-ring_p',\n",
      "       'stalk-color-above-ring_w', 'stalk-color-above-ring_y',\n",
      "       'stalk-color-below-ring_b', 'stalk-color-below-ring_c',\n",
      "       'stalk-color-below-ring_e', 'stalk-color-below-ring_g',\n",
      "       'stalk-color-below-ring_n', 'stalk-color-below-ring_o',\n",
      "       'stalk-color-below-ring_p', 'stalk-color-below-ring_w',\n",
      "       'stalk-color-below-ring_y', 'veil-color_n', 'veil-color_o',\n",
      "       'veil-color_w', 'veil-color_y', 'ring-number_n', 'ring-number_o',\n",
      "       'ring-number_t', 'ring-type_e', 'ring-type_f', 'ring-type_l',\n",
      "       'ring-type_n', 'ring-type_p', 'spore-print-color_b',\n",
      "       'spore-print-color_h', 'spore-print-color_k', 'spore-print-color_n',\n",
      "       'spore-print-color_o', 'spore-print-color_r', 'spore-print-color_u',\n",
      "       'spore-print-color_w', 'spore-print-color_y'],\n",
      "      dtype='object')\n"
     ]
    }
   ],
   "source": [
    "data_nonbinary = pd.get_dummies(data[nonbinary_columns])\n",
    "print(data_nonbinary.columns)"
   ]
  },
  {
   "cell_type": "markdown",
   "id": "a603c1c0",
   "metadata": {},
   "source": [
    "Нормализация признаков. Соединяем в одну таблицу"
   ]
  },
  {
   "cell_type": "code",
   "execution_count": 590,
   "id": "f279d125",
   "metadata": {},
   "outputs": [
    {
     "name": "stdout",
     "output_type": "stream",
     "text": [
      "(8124, 98)\n"
     ]
    }
   ],
   "source": [
    "data = pd.concat((data_nonbinary, data[binary_columns]), axis = 1)\n",
    "print(data.shape)"
   ]
  },
  {
   "cell_type": "code",
   "execution_count": 591,
   "id": "700dc1fa",
   "metadata": {
    "scrolled": true
   },
   "outputs": [
    {
     "data": {
      "text/html": [
       "<div>\n",
       "<style scoped>\n",
       "    .dataframe tbody tr th:only-of-type {\n",
       "        vertical-align: middle;\n",
       "    }\n",
       "\n",
       "    .dataframe tbody tr th {\n",
       "        vertical-align: top;\n",
       "    }\n",
       "\n",
       "    .dataframe thead th {\n",
       "        text-align: right;\n",
       "    }\n",
       "</style>\n",
       "<table border=\"1\" class=\"dataframe\">\n",
       "  <thead>\n",
       "    <tr style=\"text-align: right;\">\n",
       "      <th></th>\n",
       "      <th>cap-shape_b</th>\n",
       "      <th>cap-shape_c</th>\n",
       "      <th>cap-shape_f</th>\n",
       "      <th>cap-shape_k</th>\n",
       "      <th>cap-shape_s</th>\n",
       "      <th>cap-shape_x</th>\n",
       "      <th>cap-surface_f</th>\n",
       "      <th>cap-surface_g</th>\n",
       "      <th>cap-surface_s</th>\n",
       "      <th>cap-surface_y</th>\n",
       "      <th>...</th>\n",
       "      <th>ring-type_p</th>\n",
       "      <th>spore-print-color_b</th>\n",
       "      <th>spore-print-color_h</th>\n",
       "      <th>spore-print-color_k</th>\n",
       "      <th>spore-print-color_n</th>\n",
       "      <th>spore-print-color_o</th>\n",
       "      <th>spore-print-color_r</th>\n",
       "      <th>spore-print-color_u</th>\n",
       "      <th>spore-print-color_w</th>\n",
       "      <th>spore-print-color_y</th>\n",
       "    </tr>\n",
       "  </thead>\n",
       "  <tbody>\n",
       "    <tr>\n",
       "      <th>count</th>\n",
       "      <td>8124.000000</td>\n",
       "      <td>8124.000000</td>\n",
       "      <td>8124.000000</td>\n",
       "      <td>8124.000000</td>\n",
       "      <td>8124.000000</td>\n",
       "      <td>8124.000000</td>\n",
       "      <td>8124.000000</td>\n",
       "      <td>8124.000000</td>\n",
       "      <td>8124.000000</td>\n",
       "      <td>8124.000000</td>\n",
       "      <td>...</td>\n",
       "      <td>8124.000000</td>\n",
       "      <td>8124.000000</td>\n",
       "      <td>8124.000000</td>\n",
       "      <td>8124.000000</td>\n",
       "      <td>8124.000000</td>\n",
       "      <td>8124.000000</td>\n",
       "      <td>8124.000000</td>\n",
       "      <td>8124.000000</td>\n",
       "      <td>8124.000000</td>\n",
       "      <td>8124.000000</td>\n",
       "    </tr>\n",
       "    <tr>\n",
       "      <th>mean</th>\n",
       "      <td>0.055638</td>\n",
       "      <td>0.000492</td>\n",
       "      <td>0.387986</td>\n",
       "      <td>0.101920</td>\n",
       "      <td>0.003939</td>\n",
       "      <td>0.450025</td>\n",
       "      <td>0.285574</td>\n",
       "      <td>0.000492</td>\n",
       "      <td>0.314623</td>\n",
       "      <td>0.399311</td>\n",
       "      <td>...</td>\n",
       "      <td>0.488429</td>\n",
       "      <td>0.005908</td>\n",
       "      <td>0.200886</td>\n",
       "      <td>0.230428</td>\n",
       "      <td>0.242245</td>\n",
       "      <td>0.005908</td>\n",
       "      <td>0.008863</td>\n",
       "      <td>0.005908</td>\n",
       "      <td>0.293944</td>\n",
       "      <td>0.005908</td>\n",
       "    </tr>\n",
       "    <tr>\n",
       "      <th>std</th>\n",
       "      <td>0.229235</td>\n",
       "      <td>0.022185</td>\n",
       "      <td>0.487321</td>\n",
       "      <td>0.302562</td>\n",
       "      <td>0.062641</td>\n",
       "      <td>0.497527</td>\n",
       "      <td>0.451715</td>\n",
       "      <td>0.022185</td>\n",
       "      <td>0.464394</td>\n",
       "      <td>0.489787</td>\n",
       "      <td>...</td>\n",
       "      <td>0.499897</td>\n",
       "      <td>0.076644</td>\n",
       "      <td>0.400688</td>\n",
       "      <td>0.421133</td>\n",
       "      <td>0.428468</td>\n",
       "      <td>0.076644</td>\n",
       "      <td>0.093729</td>\n",
       "      <td>0.076644</td>\n",
       "      <td>0.455595</td>\n",
       "      <td>0.076644</td>\n",
       "    </tr>\n",
       "    <tr>\n",
       "      <th>min</th>\n",
       "      <td>0.000000</td>\n",
       "      <td>0.000000</td>\n",
       "      <td>0.000000</td>\n",
       "      <td>0.000000</td>\n",
       "      <td>0.000000</td>\n",
       "      <td>0.000000</td>\n",
       "      <td>0.000000</td>\n",
       "      <td>0.000000</td>\n",
       "      <td>0.000000</td>\n",
       "      <td>0.000000</td>\n",
       "      <td>...</td>\n",
       "      <td>0.000000</td>\n",
       "      <td>0.000000</td>\n",
       "      <td>0.000000</td>\n",
       "      <td>0.000000</td>\n",
       "      <td>0.000000</td>\n",
       "      <td>0.000000</td>\n",
       "      <td>0.000000</td>\n",
       "      <td>0.000000</td>\n",
       "      <td>0.000000</td>\n",
       "      <td>0.000000</td>\n",
       "    </tr>\n",
       "    <tr>\n",
       "      <th>25%</th>\n",
       "      <td>0.000000</td>\n",
       "      <td>0.000000</td>\n",
       "      <td>0.000000</td>\n",
       "      <td>0.000000</td>\n",
       "      <td>0.000000</td>\n",
       "      <td>0.000000</td>\n",
       "      <td>0.000000</td>\n",
       "      <td>0.000000</td>\n",
       "      <td>0.000000</td>\n",
       "      <td>0.000000</td>\n",
       "      <td>...</td>\n",
       "      <td>0.000000</td>\n",
       "      <td>0.000000</td>\n",
       "      <td>0.000000</td>\n",
       "      <td>0.000000</td>\n",
       "      <td>0.000000</td>\n",
       "      <td>0.000000</td>\n",
       "      <td>0.000000</td>\n",
       "      <td>0.000000</td>\n",
       "      <td>0.000000</td>\n",
       "      <td>0.000000</td>\n",
       "    </tr>\n",
       "    <tr>\n",
       "      <th>50%</th>\n",
       "      <td>0.000000</td>\n",
       "      <td>0.000000</td>\n",
       "      <td>0.000000</td>\n",
       "      <td>0.000000</td>\n",
       "      <td>0.000000</td>\n",
       "      <td>0.000000</td>\n",
       "      <td>0.000000</td>\n",
       "      <td>0.000000</td>\n",
       "      <td>0.000000</td>\n",
       "      <td>0.000000</td>\n",
       "      <td>...</td>\n",
       "      <td>0.000000</td>\n",
       "      <td>0.000000</td>\n",
       "      <td>0.000000</td>\n",
       "      <td>0.000000</td>\n",
       "      <td>0.000000</td>\n",
       "      <td>0.000000</td>\n",
       "      <td>0.000000</td>\n",
       "      <td>0.000000</td>\n",
       "      <td>0.000000</td>\n",
       "      <td>0.000000</td>\n",
       "    </tr>\n",
       "    <tr>\n",
       "      <th>75%</th>\n",
       "      <td>0.000000</td>\n",
       "      <td>0.000000</td>\n",
       "      <td>1.000000</td>\n",
       "      <td>0.000000</td>\n",
       "      <td>0.000000</td>\n",
       "      <td>1.000000</td>\n",
       "      <td>1.000000</td>\n",
       "      <td>0.000000</td>\n",
       "      <td>1.000000</td>\n",
       "      <td>1.000000</td>\n",
       "      <td>...</td>\n",
       "      <td>1.000000</td>\n",
       "      <td>0.000000</td>\n",
       "      <td>0.000000</td>\n",
       "      <td>0.000000</td>\n",
       "      <td>0.000000</td>\n",
       "      <td>0.000000</td>\n",
       "      <td>0.000000</td>\n",
       "      <td>0.000000</td>\n",
       "      <td>1.000000</td>\n",
       "      <td>0.000000</td>\n",
       "    </tr>\n",
       "    <tr>\n",
       "      <th>max</th>\n",
       "      <td>1.000000</td>\n",
       "      <td>1.000000</td>\n",
       "      <td>1.000000</td>\n",
       "      <td>1.000000</td>\n",
       "      <td>1.000000</td>\n",
       "      <td>1.000000</td>\n",
       "      <td>1.000000</td>\n",
       "      <td>1.000000</td>\n",
       "      <td>1.000000</td>\n",
       "      <td>1.000000</td>\n",
       "      <td>...</td>\n",
       "      <td>1.000000</td>\n",
       "      <td>1.000000</td>\n",
       "      <td>1.000000</td>\n",
       "      <td>1.000000</td>\n",
       "      <td>1.000000</td>\n",
       "      <td>1.000000</td>\n",
       "      <td>1.000000</td>\n",
       "      <td>1.000000</td>\n",
       "      <td>1.000000</td>\n",
       "      <td>1.000000</td>\n",
       "    </tr>\n",
       "  </tbody>\n",
       "</table>\n",
       "<p>8 rows × 93 columns</p>\n",
       "</div>"
      ],
      "text/plain": [
       "       cap-shape_b  cap-shape_c  cap-shape_f  cap-shape_k  cap-shape_s  \\\n",
       "count  8124.000000  8124.000000  8124.000000  8124.000000  8124.000000   \n",
       "mean      0.055638     0.000492     0.387986     0.101920     0.003939   \n",
       "std       0.229235     0.022185     0.487321     0.302562     0.062641   \n",
       "min       0.000000     0.000000     0.000000     0.000000     0.000000   \n",
       "25%       0.000000     0.000000     0.000000     0.000000     0.000000   \n",
       "50%       0.000000     0.000000     0.000000     0.000000     0.000000   \n",
       "75%       0.000000     0.000000     1.000000     0.000000     0.000000   \n",
       "max       1.000000     1.000000     1.000000     1.000000     1.000000   \n",
       "\n",
       "       cap-shape_x  cap-surface_f  cap-surface_g  cap-surface_s  \\\n",
       "count  8124.000000    8124.000000    8124.000000    8124.000000   \n",
       "mean      0.450025       0.285574       0.000492       0.314623   \n",
       "std       0.497527       0.451715       0.022185       0.464394   \n",
       "min       0.000000       0.000000       0.000000       0.000000   \n",
       "25%       0.000000       0.000000       0.000000       0.000000   \n",
       "50%       0.000000       0.000000       0.000000       0.000000   \n",
       "75%       1.000000       1.000000       0.000000       1.000000   \n",
       "max       1.000000       1.000000       1.000000       1.000000   \n",
       "\n",
       "       cap-surface_y  ...  ring-type_p  spore-print-color_b  \\\n",
       "count    8124.000000  ...  8124.000000          8124.000000   \n",
       "mean        0.399311  ...     0.488429             0.005908   \n",
       "std         0.489787  ...     0.499897             0.076644   \n",
       "min         0.000000  ...     0.000000             0.000000   \n",
       "25%         0.000000  ...     0.000000             0.000000   \n",
       "50%         0.000000  ...     0.000000             0.000000   \n",
       "75%         1.000000  ...     1.000000             0.000000   \n",
       "max         1.000000  ...     1.000000             1.000000   \n",
       "\n",
       "       spore-print-color_h  spore-print-color_k  spore-print-color_n  \\\n",
       "count          8124.000000          8124.000000          8124.000000   \n",
       "mean              0.200886             0.230428             0.242245   \n",
       "std               0.400688             0.421133             0.428468   \n",
       "min               0.000000             0.000000             0.000000   \n",
       "25%               0.000000             0.000000             0.000000   \n",
       "50%               0.000000             0.000000             0.000000   \n",
       "75%               0.000000             0.000000             0.000000   \n",
       "max               1.000000             1.000000             1.000000   \n",
       "\n",
       "       spore-print-color_o  spore-print-color_r  spore-print-color_u  \\\n",
       "count          8124.000000          8124.000000          8124.000000   \n",
       "mean              0.005908             0.008863             0.005908   \n",
       "std               0.076644             0.093729             0.076644   \n",
       "min               0.000000             0.000000             0.000000   \n",
       "25%               0.000000             0.000000             0.000000   \n",
       "50%               0.000000             0.000000             0.000000   \n",
       "75%               0.000000             0.000000             0.000000   \n",
       "max               1.000000             1.000000             1.000000   \n",
       "\n",
       "       spore-print-color_w  spore-print-color_y  \n",
       "count          8124.000000          8124.000000  \n",
       "mean              0.293944             0.005908  \n",
       "std               0.455595             0.076644  \n",
       "min               0.000000             0.000000  \n",
       "25%               0.000000             0.000000  \n",
       "50%               0.000000             0.000000  \n",
       "75%               1.000000             0.000000  \n",
       "max               1.000000             1.000000  \n",
       "\n",
       "[8 rows x 93 columns]"
      ]
     },
     "execution_count": 591,
     "metadata": {},
     "output_type": "execute_result"
    }
   ],
   "source": [
    "data.describe()"
   ]
  },
  {
   "cell_type": "code",
   "execution_count": 592,
   "id": "9f2d43a7",
   "metadata": {},
   "outputs": [],
   "source": [
    "X = data.drop(['class'], axis = 1)\n",
    "y = data['class']\n",
    "feature_names = X.columns"
   ]
  },
  {
   "cell_type": "code",
   "execution_count": 593,
   "id": "4033b4d2",
   "metadata": {},
   "outputs": [
    {
     "data": {
      "text/plain": [
       "pandas.core.indexes.base.Index"
      ]
     },
     "execution_count": 593,
     "metadata": {},
     "output_type": "execute_result"
    }
   ],
   "source": [
    "type(feature_names)"
   ]
  },
  {
   "cell_type": "code",
   "execution_count": 594,
   "id": "2bd382ff",
   "metadata": {},
   "outputs": [
    {
     "data": {
      "text/plain": [
       "Index(['cap-shape_b', 'cap-shape_c', 'cap-shape_f', 'cap-shape_k',\n",
       "       'cap-shape_s', 'cap-shape_x', 'cap-surface_f', 'cap-surface_g',\n",
       "       'cap-surface_s', 'cap-surface_y', 'cap-color_b', 'cap-color_c',\n",
       "       'cap-color_e', 'cap-color_g', 'cap-color_n', 'cap-color_p',\n",
       "       'cap-color_r', 'cap-color_u', 'cap-color_w', 'cap-color_y', 'odor_a',\n",
       "       'odor_c', 'odor_f', 'odor_l', 'odor_m', 'odor_n', 'odor_p', 'odor_s',\n",
       "       'odor_y', 'gill-color_b', 'gill-color_e', 'gill-color_g',\n",
       "       'gill-color_h', 'gill-color_k', 'gill-color_n', 'gill-color_o',\n",
       "       'gill-color_p', 'gill-color_r', 'gill-color_u', 'gill-color_w',\n",
       "       'gill-color_y', 'stalk-root_?', 'stalk-root_b', 'stalk-root_c',\n",
       "       'stalk-root_e', 'stalk-root_r', 'stalk-surface-above-ring_f',\n",
       "       'stalk-surface-above-ring_k', 'stalk-surface-above-ring_s',\n",
       "       'stalk-surface-above-ring_y', 'stalk-surface-below-ring_f',\n",
       "       'stalk-surface-below-ring_k', 'stalk-surface-below-ring_s',\n",
       "       'stalk-surface-below-ring_y', 'stalk-color-above-ring_b',\n",
       "       'stalk-color-above-ring_c', 'stalk-color-above-ring_e',\n",
       "       'stalk-color-above-ring_g', 'stalk-color-above-ring_n',\n",
       "       'stalk-color-above-ring_o', 'stalk-color-above-ring_p',\n",
       "       'stalk-color-above-ring_w', 'stalk-color-above-ring_y',\n",
       "       'stalk-color-below-ring_b', 'stalk-color-below-ring_c',\n",
       "       'stalk-color-below-ring_e', 'stalk-color-below-ring_g',\n",
       "       'stalk-color-below-ring_n', 'stalk-color-below-ring_o',\n",
       "       'stalk-color-below-ring_p', 'stalk-color-below-ring_w',\n",
       "       'stalk-color-below-ring_y', 'veil-color_n', 'veil-color_o',\n",
       "       'veil-color_w', 'veil-color_y', 'ring-number_n', 'ring-number_o',\n",
       "       'ring-number_t', 'ring-type_e', 'ring-type_f', 'ring-type_l',\n",
       "       'ring-type_n', 'ring-type_p', 'spore-print-color_b',\n",
       "       'spore-print-color_h', 'spore-print-color_k', 'spore-print-color_n',\n",
       "       'spore-print-color_o', 'spore-print-color_r', 'spore-print-color_u',\n",
       "       'spore-print-color_w', 'spore-print-color_y', 'gill-attachment',\n",
       "       'gill-spacing', 'gill-size', 'stalk-shape'],\n",
       "      dtype='object')"
      ]
     },
     "execution_count": 594,
     "metadata": {},
     "output_type": "execute_result"
    }
   ],
   "source": [
    "feature_names"
   ]
  },
  {
   "cell_type": "code",
   "execution_count": 595,
   "id": "1313a9f0",
   "metadata": {},
   "outputs": [
    {
     "name": "stdout",
     "output_type": "stream",
     "text": [
      "(8124, 97)\n",
      "(8124,)\n"
     ]
    }
   ],
   "source": [
    "print(X.shape)\n",
    "print(y.shape)\n",
    "N, d = X.shape"
   ]
  },
  {
   "cell_type": "code",
   "execution_count": 596,
   "id": "ae444da5",
   "metadata": {
    "scrolled": true
   },
   "outputs": [
    {
     "data": {
      "text/plain": [
       "e    4208\n",
       "p    3916\n",
       "Name: class, dtype: int64"
      ]
     },
     "execution_count": 596,
     "metadata": {},
     "output_type": "execute_result"
    }
   ],
   "source": [
    "y.value_counts()"
   ]
  },
  {
   "cell_type": "code",
   "execution_count": 598,
   "id": "a34fe538",
   "metadata": {},
   "outputs": [
    {
     "name": "stdout",
     "output_type": "stream",
     "text": [
      "5686 2438\n"
     ]
    }
   ],
   "source": [
    "X_train, X_test, y_train, y_test = train_test_split(X, y, test_size = 0.3, random_state = 42)\n",
    "\n",
    "N_train, _ = X_train.shape \n",
    "N_test,  _ = X_test.shape \n",
    "\n",
    "print(N_train, N_test)"
   ]
  },
  {
   "cell_type": "code",
   "execution_count": 599,
   "id": "4c6bf3c8",
   "metadata": {
    "scrolled": true
   },
   "outputs": [
    {
     "data": {
      "text/plain": [
       "8124"
      ]
     },
     "execution_count": 599,
     "metadata": {},
     "output_type": "execute_result"
    }
   ],
   "source": [
    "5686  + 2438\n"
   ]
  },
  {
   "cell_type": "markdown",
   "id": "0a1d4464",
   "metadata": {},
   "source": [
    "Задача заключается в нахождение съедобного гриба"
   ]
  },
  {
   "cell_type": "code",
   "execution_count": 1207,
   "id": "26070e49",
   "metadata": {},
   "outputs": [
    {
     "data": {
      "text/plain": [
       "0       False\n",
       "1        True\n",
       "2        True\n",
       "3       False\n",
       "4        True\n",
       "        ...  \n",
       "8119     True\n",
       "8120     True\n",
       "8121     True\n",
       "8122    False\n",
       "8123     True\n",
       "Name: class, Length: 8124, dtype: bool"
      ]
     },
     "execution_count": 1207,
     "metadata": {},
     "output_type": "execute_result"
    }
   ],
   "source": [
    "y == 'e'"
   ]
  },
  {
   "cell_type": "markdown",
   "id": "3cf69c45",
   "metadata": {},
   "source": [
    "## Knn - метод ближайших соседей"
   ]
  },
  {
   "cell_type": "markdown",
   "id": "3ef09ad5",
   "metadata": {},
   "source": [
    "Выберем параметр n_neighbors = 10. Обучим модель"
   ]
  },
  {
   "cell_type": "code",
   "execution_count": 602,
   "id": "444dd3dc",
   "metadata": {},
   "outputs": [
    {
     "data": {
      "text/plain": [
       "KNeighborsClassifier(n_neighbors=10)"
      ]
     },
     "execution_count": 602,
     "metadata": {},
     "output_type": "execute_result"
    }
   ],
   "source": [
    "knn = KNeighborsClassifier(n_neighbors = 10)\n",
    "knn.fit(X_train, y_train)\n"
   ]
  },
  {
   "cell_type": "markdown",
   "id": "bbb912bc",
   "metadata": {},
   "source": [
    "Данные для прогноза, которая модель раньше не видела. Найдем err_train и err_test."
   ]
  },
  {
   "cell_type": "code",
   "execution_count": 603,
   "id": "b389d46b",
   "metadata": {
    "scrolled": true
   },
   "outputs": [
    {
     "name": "stdout",
     "output_type": "stream",
     "text": [
      "err_train= 0.0005276116778051355 err_test= 0.00041017227235438887\n"
     ]
    }
   ],
   "source": [
    "y_train_pred = knn.predict(X_train)\n",
    "y_test_pred = knn.predict(X_test)\n",
    "err_train = np.mean(y_train != y_train_pred)\n",
    "err_test  = np.mean(y_test  != y_test_pred)\n",
    "print('err_train=',err_train,'err_test=', err_test)"
   ]
  },
  {
   "cell_type": "code",
   "execution_count": 604,
   "id": "d405813c",
   "metadata": {
    "scrolled": false
   },
   "outputs": [
    {
     "name": "stdout",
     "output_type": "stream",
     "text": [
      "[[1257    0]\n",
      " [   1 1180]]\n"
     ]
    }
   ],
   "source": [
    "print(confusion_matrix(y_test, y_test_pred))\n"
   ]
  },
  {
   "cell_type": "markdown",
   "id": "9efd1e50",
   "metadata": {},
   "source": [
    "Другие метрики"
   ]
  },
  {
   "cell_type": "code",
   "execution_count": 825,
   "id": "2e536468",
   "metadata": {},
   "outputs": [
    {
     "name": "stdout",
     "output_type": "stream",
     "text": [
      "              precision    recall  f1-score   support\n",
      "\n",
      "           e       1.00      1.00      1.00      1490\n",
      "           p       1.00      1.00      1.00      1354\n",
      "\n",
      "    accuracy                           1.00      2844\n",
      "   macro avg       1.00      1.00      1.00      2844\n",
      "weighted avg       1.00      1.00      1.00      2844\n",
      "\n"
     ]
    }
   ],
   "source": [
    "print(classification_report(y_test, y_test_pred))"
   ]
  },
  {
   "cell_type": "markdown",
   "id": "2a6df42b",
   "metadata": {},
   "source": [
    "Подбор гиперпараметра. Подберем значения k таким образом, что бы уменьшить ошибку err_test. Воспользуемся объектом GridSearchCV (cross-validation)."
   ]
  },
  {
   "cell_type": "code",
   "execution_count": 605,
   "id": "3fa8a53c",
   "metadata": {
    "scrolled": true
   },
   "outputs": [
    {
     "name": "stdout",
     "output_type": "stream",
     "text": [
      "0.0 5\n"
     ]
    }
   ],
   "source": [
    "nnb = [1,3,5, 7,10,15,20,25,30,35]\n",
    "knn = KNeighborsClassifier()\n",
    "grid = GridSearchCV(knn, param_grid = {'n_neighbors': nnb}, cv=10)\n",
    "grid.fit(X_train, y_train)\n",
    "\n",
    "best_cv_err = 1 - grid.best_score_\n",
    "best_n_neighbors = grid.best_estimator_.n_neighbors\n",
    "print(best_cv_err, best_n_neighbors)"
   ]
  },
  {
   "cell_type": "markdown",
   "id": "f8fc46e5",
   "metadata": {},
   "source": [
    "Метод класса GridSearchCV подобрал оптимальный параметр k = 5. Снова обучим модель."
   ]
  },
  {
   "cell_type": "code",
   "execution_count": 606,
   "id": "cfebcb7c",
   "metadata": {},
   "outputs": [
    {
     "data": {
      "text/plain": [
       "KNeighborsClassifier()"
      ]
     },
     "execution_count": 606,
     "metadata": {},
     "output_type": "execute_result"
    }
   ],
   "source": [
    "knn = KNeighborsClassifier(n_neighbors = 5)\n",
    "knn.fit(Xx_train, Yy_train)"
   ]
  },
  {
   "cell_type": "code",
   "execution_count": 607,
   "id": "3c2727d8",
   "metadata": {},
   "outputs": [
    {
     "name": "stdout",
     "output_type": "stream",
     "text": [
      "err_train= 0.0 err_test= 0.0\n"
     ]
    }
   ],
   "source": [
    "y_train_pred = knn.predict(X_train)\n",
    "y_test_pred = knn.predict(X_test)\n",
    "err_train = np.mean(y_train != y_train_pred)\n",
    "err_test  = np.mean(y_test  != y_test_pred)\n",
    "print('err_train=',err_train,'err_test=', err_test)"
   ]
  },
  {
   "cell_type": "markdown",
   "id": "caa7f30e",
   "metadata": {},
   "source": [
    "Основной параметр в методе knn - это k. Построем график зависимости ошибок от значения гиперпараметра k."
   ]
  },
  {
   "cell_type": "code",
   "execution_count": 609,
   "id": "d1610b15",
   "metadata": {
    "scrolled": false
   },
   "outputs": [
    {
     "data": {
      "text/plain": [
       "<matplotlib.legend.Legend at 0x19315ab18b0>"
      ]
     },
     "execution_count": 609,
     "metadata": {},
     "output_type": "execute_result"
    },
    {
     "data": {
      "image/png": "[encoded data removed]",
      "text/plain": [
       "<Figure size 432x288 with 1 Axes>"
      ]
     },
     "metadata": {
      "needs_background": "light"
     },
     "output_type": "display_data"
    }
   ],
   "source": [
    "k = list(range(1,50))\n",
    "test = []\n",
    "train = []\n",
    "for i in k:\n",
    "    knn = KNeighborsClassifier(n_neighbors = i)\n",
    "    knn.fit(X_train,y_train)\n",
    "    param = knn.score(X_test,y_test)\n",
    "    param2 = knn.score(X_train,y_train)\n",
    "    test.append(param)\n",
    "    train.append(param2)\n",
    "plt.plot(k, test, 'b-o', label ='test')\n",
    "plt.plot(k, train, 'r-o', label ='train')\n",
    "plt.xlim([np.max(k), np.min(k)])\n",
    "plt.xlabel('k')\n",
    "plt.ylabel('error')\n",
    "plt.title('error vs. k')\n",
    "plt.legend()"
   ]
  },
  {
   "cell_type": "markdown",
   "id": "0ad4ef26",
   "metadata": {},
   "source": [
    "Когда k маленькое, то обучения больше, а на test меньше. А когда k больше, то обучения меньше."
   ]
  },
  {
   "cell_type": "markdown",
   "id": "b41689aa",
   "metadata": {},
   "source": [
    "## Нейронная сеть"
   ]
  },
  {
   "cell_type": "markdown",
   "id": "a3b174ed",
   "metadata": {},
   "source": [
    "Разобъем данные на обучающую и тестовую выборки"
   ]
  },
  {
   "cell_type": "code",
   "execution_count": 1315,
   "id": "3ee641c5",
   "metadata": {},
   "outputs": [],
   "source": [
    "X_train, X_test, y_train, y_test = train_test_split(X, y, test_size = 0.35, random_state = 10)\n",
    "N_test, _ = X_test.shape"
   ]
  },
  {
   "cell_type": "markdown",
   "id": "666bf802",
   "metadata": {},
   "source": [
    "Обучим модель"
   ]
  },
  {
   "cell_type": "code",
   "execution_count": 1316,
   "id": "d4f09ecf",
   "metadata": {
    "scrolled": false
   },
   "outputs": [
    {
     "data": {
      "text/plain": [
       "MLPClassifier(activation='logistic', hidden_layer_sizes=4, random_state=7,\n",
       "              solver='lbfgs')"
      ]
     },
     "execution_count": 1316,
     "metadata": {},
     "output_type": "execute_result"
    }
   ],
   "source": [
    "mlp_model = MLPClassifier(hidden_layer_sizes = (4), solver = 'lbfgs', activation = 'logistic', random_state = 7)\n",
    "mlp_model.fit(X_train, y_train)"
   ]
  },
  {
   "cell_type": "code",
   "execution_count": 1317,
   "id": "108dae5e",
   "metadata": {
    "scrolled": true
   },
   "outputs": [
    {
     "name": "stdout",
     "output_type": "stream",
     "text": [
      "err_train= 0.010795454545454546 err_test= 0.00808720112517581\n"
     ]
    }
   ],
   "source": [
    "y_train_pred = mlp_model.predict(X_train)\n",
    "y_test_pred = mlp_model.predict(X_test)\n",
    "err_train = np.mean(y_train != y_train_pred)\n",
    "err_test  = np.mean(y_test  != y_test_pred)\n",
    "print('err_train=',err_train,'err_test=', err_test)\n"
   ]
  },
  {
   "cell_type": "markdown",
   "id": "1f01de45",
   "metadata": {},
   "source": [
    "Увеличим число слоев"
   ]
  },
  {
   "cell_type": "code",
   "execution_count": 1318,
   "id": "d94855af",
   "metadata": {},
   "outputs": [
    {
     "data": {
      "text/plain": [
       "MLPClassifier(activation='logistic', hidden_layer_sizes=(4, 5), random_state=7,\n",
       "              solver='lbfgs')"
      ]
     },
     "execution_count": 1318,
     "metadata": {},
     "output_type": "execute_result"
    }
   ],
   "source": [
    "mlp_model = MLPClassifier(hidden_layer_sizes = (4, 5), solver = 'lbfgs', activation = 'logistic', random_state = 7)\n",
    "mlp_model.fit(X_train, y_train)"
   ]
  },
  {
   "cell_type": "code",
   "execution_count": 1319,
   "id": "cb1f5b5b",
   "metadata": {},
   "outputs": [
    {
     "name": "stdout",
     "output_type": "stream",
     "text": [
      "err_train= 0.010795454545454546 err_test= 0.00808720112517581\n"
     ]
    }
   ],
   "source": [
    "y_train_pred = mlp_model.predict(X_train)\n",
    "y_test_pred = mlp_model.predict(X_test)\n",
    "err_train = np.mean(y_train != y_train_pred)\n",
    "err_test  = np.mean(y_test  != y_test_pred)\n",
    "print('err_train=',err_train,'err_test=', err_test)"
   ]
  },
  {
   "cell_type": "markdown",
   "id": "df9ed04c",
   "metadata": {},
   "source": [
    "Переобучение не наблюдается при увелечение слоев"
   ]
  },
  {
   "cell_type": "markdown",
   "id": "e25d6c3f",
   "metadata": {},
   "source": [
    "Подберем оптимальное значение параметра."
   ]
  },
  {
   "cell_type": "code",
   "execution_count": 1569,
   "id": "558ab62b",
   "metadata": {},
   "outputs": [],
   "source": [
    "alpha_arr = np.logspace(-1, 0.5, 20)\n",
    "test_err = []\n",
    "train_err = []\n",
    "for alpha in alpha_arr:\n",
    "    mlp_model = MLPClassifier(alpha = alpha, hidden_layer_sizes = (4), \n",
    "                              solver = 'lbfgs', activation = 'logistic', random_state = 7)\n",
    "    mlp_model.fit(X_train, y_train)\n",
    "\n",
    "    y_train_pred = mlp_model.predict(X_train)\n",
    "    y_test_pred = mlp_model.predict(X_test)\n",
    "    train_err.append(np.mean(y_train != y_train_pred))\n",
    "    test_err.append(np.mean(y_test != y_test_pred))"
   ]
  },
  {
   "cell_type": "markdown",
   "id": "f260869c",
   "metadata": {},
   "source": [
    "Построим график ошибки от параметра регуляризации"
   ]
  },
  {
   "cell_type": "code",
   "execution_count": 1570,
   "id": "c6d6e4a1",
   "metadata": {
    "scrolled": true
   },
   "outputs": [
    {
     "data": {
      "image/png": "[encoded data removed]",
      "text/plain": [
       "<Figure size 432x288 with 1 Axes>"
      ]
     },
     "metadata": {
      "needs_background": "light"
     },
     "output_type": "display_data"
    }
   ],
   "source": [
    "plt.semilogx(alpha_arr, train_err, 'b-o', label = 'test')\n",
    "plt.semilogx(alpha_arr, test_err, 'r-o', label = 'train')\n",
    "plt.xlim([np.max(alpha_arr), np.min(alpha_arr)])\n",
    "plt.title('Error vs. alpha')\n",
    "plt.xlabel('alpha')\n",
    "plt.ylabel('error')\n",
    "plt.legend()\n",
    "pass"
   ]
  },
  {
   "cell_type": "code",
   "execution_count": 1571,
   "id": "fa3d20a8",
   "metadata": {
    "scrolled": false
   },
   "outputs": [
    {
     "name": "stdout",
     "output_type": "stream",
     "text": [
      "[0.1        0.11993539 0.14384499 0.17252105 0.20691381 0.24816289\n",
      " 0.29763514 0.35696988 0.42813324 0.51348329 0.61584821 0.73861998\n",
      " 0.88586679 1.06246783 1.27427499 1.52830673 1.83298071 2.19839265\n",
      " 2.6366509  3.16227766]\n"
     ]
    }
   ],
   "source": [
    "print(alpha_arr)"
   ]
  },
  {
   "cell_type": "code",
   "execution_count": 1572,
   "id": "1017d449",
   "metadata": {},
   "outputs": [
    {
     "name": "stdout",
     "output_type": "stream",
     "text": [
      "0.0 0.0\n"
     ]
    }
   ],
   "source": [
    "min_train_err = np.min(train_err)\n",
    "min_test_err = np.min(test_err)\n",
    "print(min_train_err, min_test_err)"
   ]
  },
  {
   "cell_type": "code",
   "execution_count": 1573,
   "id": "74540e7c",
   "metadata": {},
   "outputs": [
    {
     "name": "stdout",
     "output_type": "stream",
     "text": [
      "0.1\n"
     ]
    }
   ],
   "source": [
    "alpha_opt = alpha_arr[test_err == min_test_err]\n",
    "alpha_opt = alpha_opt[0]\n",
    "print(alpha_opt)"
   ]
  },
  {
   "cell_type": "markdown",
   "id": "4e5ccd69",
   "metadata": {},
   "source": [
    "Нашли оптимальный параметр alpha_opt = 0.1"
   ]
  },
  {
   "cell_type": "markdown",
   "id": "4b53cbdd",
   "metadata": {},
   "source": [
    "Повторим обучение"
   ]
  },
  {
   "cell_type": "code",
   "execution_count": 1574,
   "id": "1cab4b48",
   "metadata": {},
   "outputs": [
    {
     "name": "stdout",
     "output_type": "stream",
     "text": [
      "0.0\n",
      "0.0\n"
     ]
    }
   ],
   "source": [
    "mlp_model = MLPClassifier(alpha = alpha_opt, hidden_layer_sizes = (6,),\n",
    "                          solver = 'lbfgs', activation = 'logistic', random_state = 6)\n",
    "mlp_model.fit(X_train, y_train)\n",
    "\n",
    "y_train_pred = mlp_model.predict(X_train)\n",
    "y_test_pred = mlp_model.predict(X_test)\n",
    "print(np.mean(y_train != y_train_pred))\n",
    "print(np.mean(y_test != y_test_pred))"
   ]
  },
  {
   "cell_type": "markdown",
   "id": "8fcc21e7",
   "metadata": {},
   "source": [
    "Построим матрицу рассоглосования"
   ]
  },
  {
   "cell_type": "code",
   "execution_count": 1575,
   "id": "e8596852",
   "metadata": {},
   "outputs": [
    {
     "name": "stdout",
     "output_type": "stream",
     "text": [
      "[[1490    0]\n",
      " [   0 1354]]\n"
     ]
    }
   ],
   "source": [
    "M = confusion_matrix(y_test, y_test_pred)\n",
    "print(M)\n"
   ]
  },
  {
   "cell_type": "code",
   "execution_count": 1576,
   "id": "db655103",
   "metadata": {
    "scrolled": true
   },
   "outputs": [
    {
     "data": {
      "image/png": "[encoded data removed]",
      "text/plain": [
       "<Figure size 432x288 with 2 Axes>"
      ]
     },
     "metadata": {
      "needs_background": "light"
     },
     "output_type": "display_data"
    }
   ],
   "source": [
    "M = np.sqrt(M)\n",
    "plt.imshow(M, interpolation = 'nearest')\n",
    "plt.set_cmap('binary')\n",
    "plt.xticks(range(20))\n",
    "plt.yticks(range(20))\n",
    "plt.xlabel(\"true label\")\n",
    "plt.ylabel(\"predicted label\")\n",
    "plt.colorbar()\n",
    "pass"
   ]
  },
  {
   "cell_type": "markdown",
   "id": "97521932",
   "metadata": {},
   "source": [
    "Другие метрики"
   ]
  },
  {
   "cell_type": "code",
   "execution_count": 1577,
   "id": "97c806db",
   "metadata": {
    "scrolled": true
   },
   "outputs": [
    {
     "name": "stdout",
     "output_type": "stream",
     "text": [
      "              precision    recall  f1-score   support\n",
      "\n",
      "           e       1.00      1.00      1.00      1490\n",
      "           p       1.00      1.00      1.00      1354\n",
      "\n",
      "    accuracy                           1.00      2844\n",
      "   macro avg       1.00      1.00      1.00      2844\n",
      "weighted avg       1.00      1.00      1.00      2844\n",
      "\n"
     ]
    }
   ],
   "source": [
    "print(classification_report(y_test, y_test_pred))"
   ]
  },
  {
   "cell_type": "markdown",
   "id": "a6feca33",
   "metadata": {},
   "source": [
    "Найдем число оптимальное число нейронов"
   ]
  },
  {
   "cell_type": "code",
   "execution_count": 1578,
   "id": "ab42c335",
   "metadata": {},
   "outputs": [],
   "source": [
    "neurons_arr = np.arange(1, 10, 1)\n",
    "test_err = []\n",
    "train_err = []\n",
    "for neurons in neurons_arr:\n",
    "    mlp_model = MLPClassifier(hidden_layer_sizes = (neurons, neurons), \n",
    "                              solver = 'lbfgs', activation = 'logistic', random_state = 7)\n",
    "    mlp_model.fit(X_train, y_train)\n",
    "\n",
    "    y_train_pred = mlp_model.predict(X_train)\n",
    "    y_test_pred = mlp_model.predict(X_test)\n",
    "    train_err.append(np.mean(y_train != y_train_pred))\n",
    "    test_err.append(np.mean(y_test != y_test_pred))"
   ]
  },
  {
   "cell_type": "markdown",
   "id": "829ad37c",
   "metadata": {},
   "source": [
    "Построим график оптимальное число нейронов."
   ]
  },
  {
   "cell_type": "code",
   "execution_count": 1579,
   "id": "55a300a6",
   "metadata": {},
   "outputs": [
    {
     "data": {
      "image/png": "[encoded data removed]",
      "text/plain": [
       "<Figure size 432x288 with 1 Axes>"
      ]
     },
     "metadata": {
      "needs_background": "light"
     },
     "output_type": "display_data"
    }
   ],
   "source": [
    "plt.plot(neurons_arr, train_err, 'b-o', label = 'test')\n",
    "plt.plot(neurons_arr, test_err, 'r-o', label = 'train')\n",
    "plt.xlim([np.max(neurons_arr), np.min(neurons_arr)])\n",
    "plt.title('Error vs. neurons count')\n",
    "plt.xlabel('neurons count')\n",
    "plt.ylabel('error')\n",
    "plt.legend()\n",
    "pass"
   ]
  },
  {
   "cell_type": "code",
   "execution_count": 1580,
   "id": "3beb8b6d",
   "metadata": {},
   "outputs": [
    {
     "name": "stdout",
     "output_type": "stream",
     "text": [
      "[4 6 7 8 9]\n"
     ]
    }
   ],
   "source": [
    "neurons_opt = neurons_arr[test_err == min_test_err]\n",
    "print(neurons_opt)"
   ]
  },
  {
   "cell_type": "markdown",
   "id": "cc83ecde",
   "metadata": {},
   "source": [
    "Проверим оптимальное число нейронов"
   ]
  },
  {
   "cell_type": "code",
   "execution_count": 1605,
   "id": "a0f5173e",
   "metadata": {},
   "outputs": [
    {
     "data": {
      "text/plain": [
       "MLPClassifier(activation='logistic', hidden_layer_sizes=(6, 8), random_state=7,\n",
       "              solver='lbfgs')"
      ]
     },
     "execution_count": 1605,
     "metadata": {},
     "output_type": "execute_result"
    }
   ],
   "source": [
    "mlp_model = MLPClassifier(hidden_layer_sizes = (6,8), solver = 'lbfgs', activation = 'logistic', random_state = 7)\n",
    "mlp_model.fit(X_train, y_train)"
   ]
  },
  {
   "cell_type": "code",
   "execution_count": 1606,
   "id": "83a4118b",
   "metadata": {
    "scrolled": false
   },
   "outputs": [
    {
     "name": "stdout",
     "output_type": "stream",
     "text": [
      "err_train= 0.011553030303030303 err_test= 0.00949367088607595\n"
     ]
    }
   ],
   "source": [
    "y_train_pred = mlp_model.predict(X_train)\n",
    "y_test_pred = mlp_model.predict(X_test)\n",
    "err_train = np.mean(y_train != y_train_pred)\n",
    "err_test  = np.mean(y_test  != y_test_pred)\n",
    "print('err_train=',err_train,'err_test=', err_test)"
   ]
  },
  {
   "cell_type": "markdown",
   "id": "5d0e89cb",
   "metadata": {},
   "source": [
    "Переобучение не наблюдается."
   ]
  },
  {
   "cell_type": "markdown",
   "id": "6a9a276b",
   "metadata": {},
   "source": [
    "## Random forests"
   ]
  },
  {
   "cell_type": "code",
   "execution_count": 1607,
   "id": "303f4fee",
   "metadata": {},
   "outputs": [],
   "source": [
    "X_train, X_test, y_train, y_test = train_test_split(X, y, test_size = 0.33, random_state = 5)"
   ]
  },
  {
   "cell_type": "markdown",
   "id": "0c1f138f",
   "metadata": {},
   "source": [
    "Обучим модель"
   ]
  },
  {
   "cell_type": "code",
   "execution_count": 1608,
   "id": "b227ef4b",
   "metadata": {},
   "outputs": [
    {
     "data": {
      "text/plain": [
       "RandomForestClassifier(n_estimators=10)"
      ]
     },
     "execution_count": 1608,
     "metadata": {},
     "output_type": "execute_result"
    }
   ],
   "source": [
    "cf = ensemble.RandomForestClassifier(n_estimators = 10)\n",
    "cf.fit(X_train, y_train)"
   ]
  },
  {
   "cell_type": "code",
   "execution_count": 1609,
   "id": "3dd81e36",
   "metadata": {},
   "outputs": [
    {
     "name": "stdout",
     "output_type": "stream",
     "text": [
      "0.0\n",
      "0.0\n"
     ]
    }
   ],
   "source": [
    "err_train = np.mean(y_train != cf.predict(X_train))\n",
    "err_test  = np.mean(y_test  != cf.predict(X_test))\n",
    "\n",
    "print(err_train)\n",
    "print(err_test)"
   ]
  },
  {
   "cell_type": "code",
   "execution_count": 1610,
   "id": "1bc158f0",
   "metadata": {
    "scrolled": false
   },
   "outputs": [
    {
     "name": "stderr",
     "output_type": "stream",
     "text": [
      "D:\\Anaconda\\lib\\site-packages\\sklearn\\ensemble\\_forest.py:560: UserWarning: Some inputs do not have OOB scores. This probably means too few trees were used to compute any reliable OOB estimates.\n",
      "  warn(\n",
      "D:\\Anaconda\\lib\\site-packages\\sklearn\\ensemble\\_forest.py:560: UserWarning: Some inputs do not have OOB scores. This probably means too few trees were used to compute any reliable OOB estimates.\n",
      "  warn(\n",
      "D:\\Anaconda\\lib\\site-packages\\sklearn\\ensemble\\_forest.py:560: UserWarning: Some inputs do not have OOB scores. This probably means too few trees were used to compute any reliable OOB estimates.\n",
      "  warn(\n"
     ]
    },
    {
     "data": {
      "image/png": "[encoded data removed]",
      "text/plain": [
       "<Figure size 432x288 with 1 Axes>"
      ]
     },
     "metadata": {
      "needs_background": "light"
     },
     "output_type": "display_data"
    }
   ],
   "source": [
    "tree_arr = np.arange(1, 15, 5)\n",
    "test_err = []\n",
    "train_err = []\n",
    "oob_err = []\n",
    "\n",
    "for tree in tree_arr:\n",
    "    cf = ensemble.RandomForestClassifier(n_estimators = tree,oob_score = True)\n",
    "    cf.fit(X_train, y_train)\n",
    "    y_train_pred = cf.predict(X_train)\n",
    "    y_test_pred = cf.predict(X_test)\n",
    "    train_err.append(np.mean(y_train != y_train_pred))\n",
    "    test_err.append(np.mean(y_test != y_test_pred))\n",
    "    oob_err.append(1-rf.oob_score_)\n",
    "plt.plot(tree_arr, train_err, 'b-o', label = 'train')\n",
    "plt.plot(tree_arr, test_err, 'r-o', label = 'test')\n",
    "plt.plot(tree_arr, oob_err, 'y-o', label = 'oob')\n",
    "plt.xlim([np.min(tree_arr), np.max(tree_arr)])\n",
    "plt.title('Error vs.count of tree')\n",
    "plt.xlabel('count of tree')\n",
    "plt.ylabel('Error')\n",
    "plt.legend()\n",
    "pass"
   ]
  },
  {
   "cell_type": "markdown",
   "id": "952a6153",
   "metadata": {},
   "source": [
    "Минимальное число ошибок на train и test выборках"
   ]
  },
  {
   "cell_type": "code",
   "execution_count": 1611,
   "id": "b0fe71d4",
   "metadata": {
    "scrolled": false
   },
   "outputs": [
    {
     "name": "stdout",
     "output_type": "stream",
     "text": [
      "0.0\n",
      "0.0\n"
     ]
    }
   ],
   "source": [
    "min_train_err = np.min(train_err)\n",
    "min_test_err = np.min(test_err)\n",
    "\n",
    "print( min_train_err)\n",
    "print( min_test_err)"
   ]
  },
  {
   "cell_type": "markdown",
   "id": "d3772057",
   "metadata": {},
   "source": [
    "Если параметр max_depth не стоит, то наблюдаем переобучение. Установим параметр max_depth на высоту деревьев"
   ]
  },
  {
   "cell_type": "code",
   "execution_count": 1618,
   "id": "9f42fbcd",
   "metadata": {},
   "outputs": [
    {
     "data": {
      "text/plain": [
       "RandomForestClassifier(max_depth=4, n_estimators=10)"
      ]
     },
     "execution_count": 1618,
     "metadata": {},
     "output_type": "execute_result"
    }
   ],
   "source": [
    "cf = ensemble.RandomForestClassifier(n_estimators = 10, max_depth=4)\n",
    "cf.fit(X_train, y_train)"
   ]
  },
  {
   "cell_type": "code",
   "execution_count": 1624,
   "id": "fd302311",
   "metadata": {
    "scrolled": true
   },
   "outputs": [
    {
     "name": "stderr",
     "output_type": "stream",
     "text": [
      "D:\\Anaconda\\lib\\site-packages\\sklearn\\ensemble\\_forest.py:560: UserWarning: Some inputs do not have OOB scores. This probably means too few trees were used to compute any reliable OOB estimates.\n",
      "  warn(\n",
      "D:\\Anaconda\\lib\\site-packages\\sklearn\\ensemble\\_forest.py:560: UserWarning: Some inputs do not have OOB scores. This probably means too few trees were used to compute any reliable OOB estimates.\n",
      "  warn(\n",
      "D:\\Anaconda\\lib\\site-packages\\sklearn\\ensemble\\_forest.py:560: UserWarning: Some inputs do not have OOB scores. This probably means too few trees were used to compute any reliable OOB estimates.\n",
      "  warn(\n"
     ]
    },
    {
     "data": {
      "image/png": "[encoded data removed]",
      "text/plain": [
       "<Figure size 432x288 with 1 Axes>"
      ]
     },
     "metadata": {
      "needs_background": "light"
     },
     "output_type": "display_data"
    }
   ],
   "source": [
    "tree_arr = np.arange(1, 15, 5)\n",
    "test_err = []\n",
    "train_err = []\n",
    "oob_err = []\n",
    "\n",
    "for tree in tree_arr:\n",
    "    cf = ensemble.RandomForestClassifier(n_estimators = tree,oob_score = True, max_depth=4)\n",
    "    cf.fit(X_train, y_train)\n",
    "    y_train_pred = cf.predict(X_train)\n",
    "    y_test_pred = cf.predict(X_test)\n",
    "    train_err.append(np.mean(y_train != y_train_pred))\n",
    "    test_err.append(np.mean(y_test != y_test_pred))\n",
    "    oob_err.append(1-rf.oob_score_)\n",
    "plt.plot(tree_arr, train_err, 'b-o', label = 'train')\n",
    "plt.plot(tree_arr, test_err, 'r-o', label = 'test')\n",
    "plt.plot(tree_arr, oob_err, 'y-o', label = 'oob')\n",
    "plt.xlim([np.min(tree_arr), np.max(tree_arr)])\n",
    "plt.title('Error vs. count of tree')\n",
    "plt.xlabel('Count of tree')\n",
    "plt.ylabel('Error')\n",
    "plt.legend()\n",
    "pass"
   ]
  },
  {
   "cell_type": "code",
   "execution_count": 1625,
   "id": "32438426",
   "metadata": {},
   "outputs": [
    {
     "name": "stdout",
     "output_type": "stream",
     "text": [
      "err_train= 0.0185559434135587 err_test= 0.01454681089145841\n"
     ]
    }
   ],
   "source": [
    "min_train_err = np.min(train_err)\n",
    "min_test_err = np.min(test_err)\n",
    "\n",
    "print('err_train=', min_train_err,'err_test=',min_test_err)\n"
   ]
  },
  {
   "cell_type": "code",
   "execution_count": 1626,
   "id": "66dc5ce1",
   "metadata": {
    "scrolled": true
   },
   "outputs": [
    {
     "name": "stdout",
     "output_type": "stream",
     "text": [
      "[6]\n"
     ]
    }
   ],
   "source": [
    "trees_opt = tree_arr[test_err == min_test_err]\n",
    "print(trees_opt)"
   ]
  },
  {
   "cell_type": "markdown",
   "id": "f6ad595d",
   "metadata": {},
   "source": [
    "Проверим оптимальное число деревьев"
   ]
  },
  {
   "cell_type": "code",
   "execution_count": 1629,
   "id": "48daf25d",
   "metadata": {},
   "outputs": [
    {
     "data": {
      "text/plain": [
       "RandomForestClassifier(max_depth=4, n_estimators=6)"
      ]
     },
     "execution_count": 1629,
     "metadata": {},
     "output_type": "execute_result"
    }
   ],
   "source": [
    "cf = ensemble.RandomForestClassifier(n_estimators = 6, max_depth=4)\n",
    "cf.fit(X_train, y_train)"
   ]
  },
  {
   "cell_type": "code",
   "execution_count": 1630,
   "id": "c4ce5e64",
   "metadata": {},
   "outputs": [
    {
     "name": "stdout",
     "output_type": "stream",
     "text": [
      "err_train= 0.03270255373874702 err_test= 0.02909362178291682\n"
     ]
    }
   ],
   "source": [
    "err_train = np.mean(y_train != cf.predict(X_train))\n",
    "err_test  = np.mean(y_test  != cf.predict(X_test))\n",
    "\n",
    "print('err_train=',err_train,'err_test=',err_test)\n"
   ]
  },
  {
   "cell_type": "markdown",
   "id": "7922ff21",
   "metadata": {},
   "source": [
    "При уменьшение высоты деревьев наблюдается переобучение."
   ]
  },
  {
   "cell_type": "code",
   "execution_count": 1631,
   "id": "f075bddb",
   "metadata": {},
   "outputs": [
    {
     "data": {
      "text/plain": [
       "RandomForestClassifier(max_depth=3, n_estimators=6)"
      ]
     },
     "execution_count": 1631,
     "metadata": {},
     "output_type": "execute_result"
    }
   ],
   "source": [
    "cf = ensemble.RandomForestClassifier(n_estimators = 6, max_depth=3)\n",
    "cf.fit(X_train, y_train)"
   ]
  },
  {
   "cell_type": "code",
   "execution_count": 1632,
   "id": "89c34428",
   "metadata": {},
   "outputs": [
    {
     "name": "stdout",
     "output_type": "stream",
     "text": [
      "err_train= 0.0731214403821422 err_test= 0.07683700111898545\n"
     ]
    }
   ],
   "source": [
    "err_train = np.mean(y_train != cf.predict(X_train))\n",
    "err_test  = np.mean(y_test  != cf.predict(X_test))\n",
    "\n",
    "print('err_train=',err_train,'err_test=',err_test)\n"
   ]
  }
 ],
 "metadata": {
  "kernelspec": {
   "display_name": "Python 3 (ipykernel)",
   "language": "python",
   "name": "python3"
  },
  "language_info": {
   "codemirror_mode": {
    "name": "ipython",
    "version": 3
   },
   "file_extension": ".py",
   "mimetype": "text/x-python",
   "name": "python",
   "nbconvert_exporter": "python",
   "pygments_lexer": "ipython3",
   "version": "3.9.12"
  }
 },
 "nbformat": 4,
 "nbformat_minor": 5
}
